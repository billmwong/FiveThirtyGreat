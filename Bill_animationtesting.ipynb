{
 "cells": [
  {
   "cell_type": "code",
   "execution_count": 1,
   "metadata": {
    "collapsed": true
   },
   "outputs": [],
   "source": [
    "import matplotlib.pyplot as plt\n",
    "import matplotlib.animation as animation\n",
    "import numpy as np\n",
    "import pandas as pd"
   ]
  },
  {
   "cell_type": "code",
   "execution_count": 2,
   "metadata": {
    "collapsed": true
   },
   "outputs": [],
   "source": [
    "import json\n",
    "from pprint import pprint\n",
    "\n",
    "with open('GSWvsCLE.json') as data_file:    \n",
    "    data = json.load(data_file)"
   ]
  },
  {
   "cell_type": "code",
   "execution_count": 3,
   "metadata": {
    "collapsed": true
   },
   "outputs": [],
   "source": [
    "# read in the court png file\n",
    "court = plt.imread(\"fullcourt.png\")\n",
    "\n",
    "headers = [\"team_id\", \"player_id\", \"x_loc\", \"y_loc\", \n",
    "           \"radius\"]\n",
    "\n",
    "def playerDFtoList(frame):\n",
    "    xList = frame['x_loc'].tolist()\n",
    "    yList = frame['y_loc'].tolist()\n",
    "    bothList = []\n",
    "    for i in range(len(xList)):\n",
    "        bothList.append([ xList[i], yList[i] ])\n",
    "    return np.array(bothList)"
   ]
  },
  {
   "cell_type": "code",
   "execution_count": 64,
   "metadata": {
    "collapsed": false
   },
   "outputs": [
    {
     "data": {
      "text/html": [
       "<div>\n",
       "<table border=\"1\" class=\"dataframe\">\n",
       "  <thead>\n",
       "    <tr style=\"text-align: right;\">\n",
       "      <th></th>\n",
       "      <th>team_id</th>\n",
       "      <th>player_id</th>\n",
       "      <th>x_loc</th>\n",
       "      <th>y_loc</th>\n",
       "      <th>radius</th>\n",
       "    </tr>\n",
       "  </thead>\n",
       "  <tbody>\n",
       "    <tr>\n",
       "      <th>0</th>\n",
       "      <td>-1</td>\n",
       "      <td>-1</td>\n",
       "      <td>28.64068</td>\n",
       "      <td>45.40327</td>\n",
       "      <td>3.54135</td>\n",
       "    </tr>\n",
       "    <tr>\n",
       "      <th>1</th>\n",
       "      <td>1610612739</td>\n",
       "      <td>2544</td>\n",
       "      <td>6.44329</td>\n",
       "      <td>22.26184</td>\n",
       "      <td>0.00000</td>\n",
       "    </tr>\n",
       "    <tr>\n",
       "      <th>2</th>\n",
       "      <td>1610612739</td>\n",
       "      <td>2747</td>\n",
       "      <td>17.45534</td>\n",
       "      <td>4.23261</td>\n",
       "      <td>0.00000</td>\n",
       "    </tr>\n",
       "    <tr>\n",
       "      <th>3</th>\n",
       "      <td>1610612739</td>\n",
       "      <td>201567</td>\n",
       "      <td>7.51449</td>\n",
       "      <td>16.49044</td>\n",
       "      <td>0.00000</td>\n",
       "    </tr>\n",
       "    <tr>\n",
       "      <th>4</th>\n",
       "      <td>1610612739</td>\n",
       "      <td>202681</td>\n",
       "      <td>27.87412</td>\n",
       "      <td>45.48980</td>\n",
       "      <td>0.00000</td>\n",
       "    </tr>\n",
       "  </tbody>\n",
       "</table>\n",
       "</div>"
      ],
      "text/plain": [
       "      team_id  player_id     x_loc     y_loc   radius\n",
       "0          -1         -1  28.64068  45.40327  3.54135\n",
       "1  1610612739       2544   6.44329  22.26184  0.00000\n",
       "2  1610612739       2747  17.45534   4.23261  0.00000\n",
       "3  1610612739     201567   7.51449  16.49044  0.00000\n",
       "4  1610612739     202681  27.87412  45.48980  0.00000"
      ]
     },
     "execution_count": 64,
     "metadata": {},
     "output_type": "execute_result"
    }
   ],
   "source": [
    "df.head()"
   ]
  },
  {
   "cell_type": "code",
   "execution_count": 69,
   "metadata": {
    "collapsed": false
   },
   "outputs": [],
   "source": [
    "# Get moments from the zeroth event\n",
    "player_moments = []\n",
    "# moments = data['events'][0]['moments']\n",
    "for event in data['events']:\n",
    "    for moment in event['moments']:\n",
    "        for player in moment[5]:\n",
    "            player_moments.append(player)\n",
    "\n",
    "# for moment in moments:\n",
    "#     for player in moment[5]:\n",
    "#         player_moments.append(player)\n",
    "\n",
    "df = pd.DataFrame(player_moments, columns=headers)\n",
    "\n",
    "# Get specific player's movements\n",
    "ball = df[df.player_id==-1]\n",
    "\n",
    "steph = df[df.player_id==201939]\n",
    "klay = df[df.player_id==202691]\n",
    "bogut = df[df.player_id==101106]\n",
    "green = df[df.player_id==203110]\n",
    "barnes = df[df.player_id==203084]\n",
    "\n",
    "lebron = df[df.player_id==2544]\n",
    "smith = df[df.player_id==2747]\n",
    "love = df[df.player_id==201567]\n",
    "irving = df[df.player_id==202681]\n",
    "mozgov = df[df.player_id==202389]\n",
    "\n",
    "# convert them to numpy arrays\n",
    "ballA = playerDFtoList(ball)\n",
    "\n",
    "stephA = playerDFtoList(steph)\n",
    "klayA = playerDFtoList(klay)\n",
    "bogutA = playerDFtoList(bogut)\n",
    "greenA = playerDFtoList(green)\n",
    "barnesA = playerDFtoList(barnes)\n",
    "\n",
    "lebronA = playerDFtoList(lebron)\n",
    "smithA = playerDFtoList(smith)\n",
    "loveA = playerDFtoList(love)\n",
    "irvingA = playerDFtoList(irving)\n",
    "mozgovA = playerDFtoList(mozgov)\n",
    "\n",
    "#Get ball radiuses\n",
    "radii = ball['radius'].tolist()"
   ]
  },
  {
   "cell_type": "code",
   "execution_count": 77,
   "metadata": {
    "collapsed": true
   },
   "outputs": [],
   "source": [
    "class AnimatedScatter(object):\n",
    "    \"\"\"An animated scatter plot using matplotlib.animations.FuncAnimation.\"\"\"\n",
    "    def __init__(self, playerLists, ballRadii):\n",
    "        self.numpoints = len(playerLists)\n",
    "        print 'numpoints:',self.numpoints\n",
    "        self.stream = self.data_stream()\n",
    "\n",
    "        self.ballRadii = ballRadii\n",
    "        \n",
    "        locations = []\n",
    "        for i in range(len(playerLists[0])):\n",
    "            # For each moment\n",
    "            locations.append([])\n",
    "            for player in playerLists:\n",
    "                try:\n",
    "                    locations[i].append(player[i])\n",
    "                except IndexError:\n",
    "                    break\n",
    "        self.locations = locations\n",
    "    \n",
    "        if self.numpoints == 11:\n",
    "            self.colorArray = np.array([0,1,1,1,1,1,2,2,2,2,2])\n",
    "        else:\n",
    "            self.colorArray = np.array([0] + [2]*(self.numpoints-1))\n",
    "        # Setup the figure and axes...\n",
    "        self.fig, self.ax = plt.subplots()\n",
    "        # Then setup FuncAnimation.\n",
    "        self.ani = animation.FuncAnimation(self.fig, self.update, interval=25, \n",
    "                                           init_func=self.setup_plot, blit=True)\n",
    "\n",
    "    def setup_plot(self):\n",
    "        \"\"\"Initial drawing of the scatter plot.\"\"\"\n",
    "        pos, c, i,r = next(self.stream)\n",
    "        self.scat = self.ax.scatter(2, 40, animated=True)\n",
    "        self.ax.axis([0, 94, 50, 0])\n",
    "#         self.ax.legend(['Event'])\n",
    "        \n",
    "#         self.eventnumber = plt.annotate(\"Event: 0\", xy =(20, 30), zorder=1)\n",
    "\n",
    "        # For FuncAnimation's sake, we need to return the artist we'll be using\n",
    "        # Note that it expects a sequence of artists, thus the trailing comma.\n",
    "        return self.scat,\n",
    "\n",
    "    def data_stream(self):\n",
    "        \"\"\"Generate a random walk (brownian motion). Data is scaled to produce\n",
    "        a soft \"flickering\" effect.\"\"\"\n",
    "        data = [[[],[],[]],[],[],[]]\n",
    "        data[1] = self.colorArray\n",
    "        \n",
    "        i = 0\n",
    "        while True:\n",
    "            data[0] = self.locations[i]\n",
    "            data[2] = i # this event number\n",
    "            data[3] = self.ballRadii[i]\n",
    "            i += 1\n",
    "            yield data\n",
    "\n",
    "    def update(self, i):\n",
    "        \"\"\"Update the scatter plot.\"\"\"\n",
    "        data = next(self.stream)\n",
    "\n",
    "        # Set x and y data...\n",
    "        self.scat.set_offsets(data[0])\n",
    "        # Set sizes...\n",
    "        self.scat._sizes = np.array([data[3]*4,120,120,120,120,120,120,120,120,120,120])\n",
    "        # Set colors..\n",
    "        self.scat.set_array(data[1])\n",
    "        \n",
    "        self.scat.set_label(\"Event man\")\n",
    "        \n",
    "#         self.eventnumber.remove()\n",
    "#         self.eventnumber = plt.annotate(\"Event: \"+str(data[2]), xy =(20, 30), zorder=1)\n",
    "#         draw()\n",
    "        \n",
    "#         self.scat.axes.legend(['poop'])\n",
    "\n",
    "        # We need to return the updated artist for FuncAnimation to draw..\n",
    "        # Note that it expects a sequence of artists, thus the trailing comma.\n",
    "        return self.scat,\n",
    "\n",
    "    def show(self):\n",
    "        plt.imshow(court, zorder=0, extent=[0,94,50,0])\n",
    "        plt.show()"
   ]
  },
  {
   "cell_type": "code",
   "execution_count": null,
   "metadata": {
    "collapsed": false
   },
   "outputs": [],
   "source": [
    "a = AnimatedScatter([ballA, stephA, klayA, bogutA, greenA, barnesA, lebronA, smithA, loveA, irvingA, mozgovA],radii)\n",
    "# a = AnimatedScatter([ballA, irvingA, stephA])\n",
    "# a = AnimatedScatter([irvingA])\n",
    "a.show()"
   ]
  },
  {
   "cell_type": "code",
   "execution_count": null,
   "metadata": {
    "collapsed": false
   },
   "outputs": [],
   "source": [
    "just ball:\n",
    "[\n",
    "    [[28.64068], [45.403269999999999]],\n",
    "    [[28.52319], [45.279890000000002]],\n",
    "    [[28.38205], [45.163530000000002]]\n",
    "]\n",
    "\n",
    "\n",
    "with both:\n",
    "[\n",
    "    [[28.64068, 27.874120000000001], [45.403269999999999, 45.489800000000002]],\n",
    "    [[28.52319, 27.793469999999999], [45.279890000000002, 45.431060000000002]],\n",
    "    [[28.38205, 27.717929999999999], [45.163530000000002, 45.364379999999997]]\n",
    "]"
   ]
  },
  {
   "cell_type": "code",
   "execution_count": 7,
   "metadata": {
    "collapsed": true
   },
   "outputs": [],
   "source": []
  },
  {
   "cell_type": "code",
   "execution_count": null,
   "metadata": {
    "collapsed": true
   },
   "outputs": [],
   "source": []
  }
 ],
 "metadata": {
  "kernelspec": {
   "display_name": "Python 2",
   "language": "python",
   "name": "python2"
  },
  "language_info": {
   "codemirror_mode": {
    "name": "ipython",
    "version": 2
   },
   "file_extension": ".py",
   "mimetype": "text/x-python",
   "name": "python",
   "nbconvert_exporter": "python",
   "pygments_lexer": "ipython2",
   "version": "2.7.6"
  }
 },
 "nbformat": 4,
 "nbformat_minor": 0
}
