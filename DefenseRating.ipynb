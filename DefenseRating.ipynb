{
 "cells": [
  {
   "cell_type": "markdown",
   "metadata": {},
   "source": [
    "# Defensive Ranking Generator Thang\n"
   ]
  },
  {
   "cell_type": "code",
   "execution_count": 92,
   "metadata": {
    "collapsed": true
   },
   "outputs": [],
   "source": [
    "import requests\n",
    "import pandas as pd\n",
    "import numpy as np\n",
    "\n",
    "%matplotlib inline\n",
    "import matplotlib.pyplot as plt\n",
    "import seaborn as sns\n",
    "from nba_py import player\n",
    "import json\n",
    "\n"
   ]
  },
  {
   "cell_type": "code",
   "execution_count": 95,
   "metadata": {
    "collapsed": true
   },
   "outputs": [],
   "source": [
    "def getPlayerId(name):\n",
    "    name = name.split(' ')\n",
    "    id = player.get_player(name[0], name[1], just_id=True)\n",
    "    return id"
   ]
  },
  {
   "cell_type": "code",
   "execution_count": 99,
   "metadata": {
    "collapsed": false
   },
   "outputs": [
    {
     "name": "stdout",
     "output_type": "stream",
     "text": [
      "773    201939\n",
      "Name: PERSON_ID, dtype: int64\n"
     ]
    }
   ],
   "source": [
    "id = getPlayerId('stephen curry')\n",
    "\n",
    "print id"
   ]
  },
  {
   "cell_type": "code",
   "execution_count": 100,
   "metadata": {
    "collapsed": false
   },
   "outputs": [
    {
     "name": "stdout",
     "output_type": "stream",
     "text": [
      "{u'resource': u'playerdashptshotdefend', u'resultSets': [{u'headers': [u'CLOSE_DEF_PERSON_ID', u'GP', u'G', u'DEFENSE_CATEGORY', u'FREQ', u'D_FGM', u'D_FGA', u'D_FG_PCT', u'NORMAL_FG_PCT', u'PCT_PLUSMINUS'], u'rowSet': [[201939, 78, 78, u'Overall', 1.0, 3.96, 9.78, 0.405, 0.432, -0.028], [201939, 78, 77, u'3 Pointers', 0.354, 1.15, 3.46, 0.333, 0.342, -0.009], [201939, 78, 78, u'2 Pointers', 0.646, 2.81, 6.32, 0.444, 0.472, -0.028], [201939, 78, 63, u'Less Than 6 Ft', 0.163, 1.01, 1.59, 0.637, 0.592, 0.045], [201939, 78, 71, u'Less Than 10 Ft', 0.278, 1.44, 2.72, 0.528, 0.531, -0.003], [201939, 78, 78, u'Greater Than 15 Ft', 0.588, 1.97, 5.76, 0.343, 0.366, -0.023]], u'name': u'DefendingShots'}], u'parameters': {u'VsConference': None, u'OpponentTeamID': 0, u'PerMode': u'PerGame', u'PlayerID': 201939, u'Season': u'2014-15', u'GameSegment': None, u'SeasonSegment': None, u'DateFrom': None, u'Period': 0, u'Month': 0, u'LastNGames': 0, u'TeamID': 0, u'Location': None, u'VsDivision': None, u'DateTo': None, u'LeagueID': u'00', u'Outcome': None, u'SeasonType': u'Regular Season'}}\n"
     ]
    }
   ],
   "source": [
    "pdt = nba.player.PlayerDefenseTracking(id)\n",
    "data = pdt.json\n",
    "print data"
   ]
  },
  {
   "cell_type": "code",
   "execution_count": 101,
   "metadata": {
    "collapsed": false
   },
   "outputs": [],
   "source": [
    "def getPlayerDefenseData(id):\n",
    "    pdt = nba.player.PlayerDefenseTracking(id)\n",
    "    data = pdt.json\n",
    "    \n",
    "    headers = data['resultSets'][0]['headers']\n",
    "    rows = data['resultSets'][0]['rowSet']\n",
    "    df = pd.DataFrame(rows, columns=headers)\n",
    "    \n",
    "    return df"
   ]
  },
  {
   "cell_type": "code",
   "execution_count": 102,
   "metadata": {
    "collapsed": false
   },
   "outputs": [
    {
     "name": "stdout",
     "output_type": "stream",
     "text": [
      "   CLOSE_DEF_PERSON_ID  GP   G    DEFENSE_CATEGORY   FREQ  D_FGM  D_FGA  \\\n",
      "0               201939  78  78             Overall  1.000   3.96   9.78   \n",
      "1               201939  78  77          3 Pointers  0.354   1.15   3.46   \n",
      "2               201939  78  78          2 Pointers  0.646   2.81   6.32   \n",
      "3               201939  78  63      Less Than 6 Ft  0.163   1.01   1.59   \n",
      "4               201939  78  71     Less Than 10 Ft  0.278   1.44   2.72   \n",
      "5               201939  78  78  Greater Than 15 Ft  0.588   1.97   5.76   \n",
      "\n",
      "   D_FG_PCT  NORMAL_FG_PCT  PCT_PLUSMINUS  \n",
      "0     0.405          0.432         -0.028  \n",
      "1     0.333          0.342         -0.009  \n",
      "2     0.444          0.472         -0.028  \n",
      "3     0.637          0.592          0.045  \n",
      "4     0.528          0.531         -0.003  \n",
      "5     0.343          0.366         -0.023  \n"
     ]
    }
   ],
   "source": [
    "print getPlayerDefenseData(id)"
   ]
  },
  {
   "cell_type": "code",
   "execution_count": null,
   "metadata": {
    "collapsed": true
   },
   "outputs": [],
   "source": []
  },
  {
   "cell_type": "code",
   "execution_count": null,
   "metadata": {
    "collapsed": true
   },
   "outputs": [],
   "source": []
  },
  {
   "cell_type": "code",
   "execution_count": null,
   "metadata": {
    "collapsed": true
   },
   "outputs": [],
   "source": []
  },
  {
   "cell_type": "code",
   "execution_count": null,
   "metadata": {
    "collapsed": true
   },
   "outputs": [],
   "source": []
  },
  {
   "cell_type": "code",
   "execution_count": 11,
   "metadata": {
    "collapsed": false
   },
   "outputs": [],
   "source": []
  },
  {
   "cell_type": "code",
   "execution_count": null,
   "metadata": {
    "collapsed": false
   },
   "outputs": [],
   "source": []
  },
  {
   "cell_type": "code",
   "execution_count": null,
   "metadata": {
    "collapsed": false
   },
   "outputs": [],
   "source": []
  },
  {
   "cell_type": "code",
   "execution_count": null,
   "metadata": {
    "collapsed": false
   },
   "outputs": [],
   "source": []
  }
 ],
 "metadata": {
  "kernelspec": {
   "display_name": "Python 2",
   "language": "python",
   "name": "python2"
  },
  "language_info": {
   "codemirror_mode": {
    "name": "ipython",
    "version": 2
   },
   "file_extension": ".py",
   "mimetype": "text/x-python",
   "name": "python",
   "nbconvert_exporter": "python",
   "pygments_lexer": "ipython2",
   "version": "2.7.11"
  }
 },
 "nbformat": 4,
 "nbformat_minor": 0
}
