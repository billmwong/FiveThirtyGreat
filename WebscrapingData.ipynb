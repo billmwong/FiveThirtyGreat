{
 "cells": [
  {
   "cell_type": "code",
   "execution_count": 1,
   "metadata": {
    "collapsed": true
   },
   "outputs": [],
   "source": [
    "from bs4 import BeautifulSoup\n",
    "from lxml import html\n",
    "import requests\n",
    "from urllib2 import urlopen\n",
    "import urllib2,cookielib\n",
    "import pandas as pd\n",
    "import nba_py as nba\n",
    "from nba_py import player\n",
    "import sys"
   ]
  },
  {
   "cell_type": "code",
   "execution_count": 12,
   "metadata": {
    "collapsed": false
   },
   "outputs": [
    {
     "name": "stdout",
     "output_type": "stream",
     "text": [
      "    Game Date         Player               Opp.  Q   Time          Shot Type  \\\n",
      "0  2014-12-13  Stephen Curry   Dallas Mavericks  3   2:25  Driving Bank shot   \n",
      "1  2015-02-20  Stephen Curry  San Antonio Spurs  3  10:41  Driving Bank shot   \n",
      "2  2014-12-13  Stephen Curry   Dallas Mavericks  4   7:05  Driving Bank shot   \n",
      "3  2015-03-21  Stephen Curry          Utah Jazz  2   0:34  Driving Bank shot   \n",
      "4  2015-04-04  Stephen Curry   Dallas Mavericks  1  11:23  Driving Bank shot   \n",
      "\n",
      "  Shot Dist. Made? Drib. Shot Clock Touch Time         Defender Def Dist.  \\\n",
      "0    5.20ft.   Yes     8      16.00       6.30   Nowitzki, Dirk      3.20   \n",
      "1   13.60ft.   Yes     5       2.90       4.50     Parker, Tony      1.70   \n",
      "2    6.00ft.   Yes     0       9.30       0.80  Chandler, Tyson      3.70   \n",
      "3    9.00ft.   Yes    10      15.30       8.70  Favors, Derrick      2.30   \n",
      "4    4.10ft.   Yes     0      20.80       0.80   Nowitzki, Dirk      2.50   \n",
      "\n",
      "               \n",
      "0  \\n\\n\\n  \\n  \n",
      "1  \\n\\n\\n  \\n  \n",
      "2  \\n\\n\\n  \\n  \n",
      "3  \\n\\n\\n  \\n  \n",
      "4  \\n\\n\\n  \\n  \n"
     ]
    }
   ],
   "source": [
    "from bs4 import BeautifulSoup\n",
    "from lxml import html\n",
    "import requests\n",
    "from urllib2 import urlopen\n",
    "import urllib2,cookielib\n",
    "import pandas as pd\n",
    "import nba_py as nba\n",
    "from nba_py import player\n",
    "import sys\n",
    "\n",
    "\n",
    "def makeSoup(url):\n",
    "\thdr = {'User-Agent': 'Mozilla/5.0 (X11; Linux x86_64) AppleWebKit/537.11 (KHTML, like Gecko) Chrome/23.0.1271.64 Safari/537.11',\n",
    "\t       'Accept': 'text/html,application/xhtml+xml,application/xml;q=0.9,*/*;q=0.8',\n",
    "\t       'Accept-Charset': 'ISO-8859-1,utf-8;q=0.7,*;q=0.3',\n",
    "\t       'Accept-Encoding': 'none',\n",
    "\t       'Accept-Language': 'en-US,en;q=0.8',\n",
    "\t       'Connection': 'keep-alive'}\n",
    "\treq = urllib2.Request(url, headers=hdr)\n",
    "\ttry:\n",
    "\t    page = urllib2.urlopen(req)\n",
    "\texcept urllib2.HTTPError, e:\n",
    "\t    print e.fp.read()\n",
    "\tcontent = page.read()\n",
    "\n",
    "\tsoup = BeautifulSoup(content, 'lxml')\n",
    "\treturn soup\n",
    "\n",
    "\n",
    "def makeHeaders(soup):\n",
    "\n",
    "\tcolumn_headers = [th.getText() for th in soup.findAll('th')]\n",
    "\treturn  column_headers\n",
    "\n",
    "def makeDataframe(soup):\n",
    "\n",
    "\tcolumn_headers = makeHeaders(soup)\n",
    "\tdata_rows = soup.findAll('tr')[1:]\n",
    "\tplayer_data = [[td.getText() for td in data_rows[i].findAll('td')] for i in range(len(data_rows))]\n",
    "\n",
    "\tdf = pd.DataFrame(player_data, columns=column_headers)\n",
    "\treturn df\n",
    "\n",
    "\n",
    "def getPlayerId(name):\n",
    "    name = name.split(' ')\n",
    "\n",
    "    # If returned with execption 400 bad request for url, you sometimes have to open the link in your browser then it will work. Weird bug.\n",
    "\n",
    "    player = nba.player.get_player(name[0], name[1], just_id=True)\n",
    "    return player\n",
    "\n",
    "def getURL(id, season):\n",
    "\n",
    "\tid = str(int(id))\n",
    "\turl ='http://nbasavant.com/ajax/getShotsByPlayer.php?hfST=&hfQ=&pid%5B%5D='+id+'&hfSZB=&hfSZA=&hfSZR=&ddlYear='+season+'&txtGameDateGT=&txtGameDateLT=&ddlGameTimeGT_min=&ddlGameTimeGT_sec=&ddlGameTimeLT_min=&ddlGameTimeLT_sec=&ddlShotClockGT=&ddlShotClockLT=&ddlDefDistanceGT=&ddlDefDistanceLT=&ddlDribblesGT=&ddlDribblesLT=&ddlTouchTimeGT=&ddlTouchTimeLT=&ddlShotDistanceGT=&ddlShotDistanceLT=&ddlTeamShooting=&ddlTeamDefense=&hfPT=&ddlGroupBy=player&ddlOrderBy=shots_made_desc&hfGT=0%7C&ddlShotMade=&ddlMin=0&player_id='+id+'&data=null&_=1459806001585'\n",
    "    \n",
    "\treturn url\n",
    "\n",
    "def getData(name, season):\n",
    "\tid = getPlayerId(name)\n",
    "\turl = getURL(id, season)\n",
    "\tsoup = makeSoup(url)\n",
    "\tdf = makeDataframe(soup)\n",
    "\treturn df\n",
    "\n",
    "\n",
    "if __name__ == '__main__':\n",
    "    df = getData('stephen curry', '2014')\n",
    "    print df.head()\n",
    "\n"
   ]
  },
  {
   "cell_type": "code",
   "execution_count": null,
   "metadata": {
    "collapsed": true
   },
   "outputs": [],
   "source": []
  },
  {
   "cell_type": "code",
   "execution_count": null,
   "metadata": {
    "collapsed": true
   },
   "outputs": [],
   "source": []
  }
 ],
 "metadata": {
  "kernelspec": {
   "display_name": "Python 2",
   "language": "python",
   "name": "python2"
  },
  "language_info": {
   "codemirror_mode": {
    "name": "ipython",
    "version": 2
   },
   "file_extension": ".py",
   "mimetype": "text/x-python",
   "name": "python",
   "nbconvert_exporter": "python",
   "pygments_lexer": "ipython2",
   "version": "2.7.11"
  }
 },
 "nbformat": 4,
 "nbformat_minor": 0
}
