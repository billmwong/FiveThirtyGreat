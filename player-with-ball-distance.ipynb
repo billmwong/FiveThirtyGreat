{
 "cells": [
  {
   "cell_type": "code",
   "execution_count": 1,
   "metadata": {
    "collapsed": false
   },
   "outputs": [
    {
     "name": "stderr",
     "output_type": "stream",
     "text": [
      "/Users/bumho/anaconda/lib/python2.7/site-packages/matplotlib/font_manager.py:273: UserWarning: Matplotlib is building the font cache using fc-list. This may take a moment.\n",
      "  warnings.warn('Matplotlib is building the font cache using fc-list. This may take a moment.')\n"
     ]
    }
   ],
   "source": [
    "import matplotlib.pyplot as plt\n",
    "import matplotlib.animation as animation\n",
    "import numpy as np\n",
    "%matplotlib inline\n",
    "import pandas as pd"
   ]
  },
  {
   "cell_type": "code",
   "execution_count": 2,
   "metadata": {
    "collapsed": false
   },
   "outputs": [],
   "source": [
    "import json\n",
    "from pprint import pprint\n",
    "\n",
    "def getGameJSON(path):\n",
    "    with open(path) as data_file:    \n",
    "        data = json.load(data_file)\n",
    "    return data\n",
    "        \n",
    "data = getGameJSON('GSWvsCLE.json')\n"
   ]
  },
  {
   "cell_type": "code",
   "execution_count": 3,
   "metadata": {
    "collapsed": false
   },
   "outputs": [],
   "source": [
    "# read in the court png file\n",
    "court = plt.imread(\"fullcourt.png\")\n",
    "\n",
    "headers = [\"team_id\", \"player_id\", \"x_loc\", \"y_loc\", \n",
    "           \"radius\"]\n",
    "\n",
    "def playerDFtoList(frame):\n",
    "    xList = frame['x_loc'].tolist()\n",
    "    yList = frame['y_loc'].tolist()\n",
    "    bothList = []\n",
    "    for i in range(len(xList)):\n",
    "        bothList.append([ xList[i], yList[i] ])\n",
    "    return np.array(bothList)"
   ]
  },
  {
   "cell_type": "code",
   "execution_count": 4,
   "metadata": {
    "collapsed": false
   },
   "outputs": [],
   "source": [
    "def getMoments(data):\n",
    "    player_moments = []\n",
    "    for event in data['events']:\n",
    "        for moment in event['moments']:\n",
    "            for player in moment[5]:\n",
    "                player_moments.append(player)\n",
    "\n",
    "    df = pd.DataFrame(player_moments, columns=headers)\n",
    "    return df\n"
   ]
  },
  {
   "cell_type": "code",
   "execution_count": null,
   "metadata": {
    "collapsed": true
   },
   "outputs": [],
   "source": []
  },
  {
   "cell_type": "code",
   "execution_count": null,
   "metadata": {
    "collapsed": false
   },
   "outputs": [],
   "source": [
    "min_5 = 25*60*6*11\n",
    "\n",
    "def dist(data, ball):\n",
    "    data[\"distanceToBall\"] = np.sqrt((data[\"x_loc\"] -ball[\"x_loc\"])**2+ (data[\"y_loc\"] -ball[\"y_loc\"])**2)\n",
    "\n",
    "def hasBall(data):\n",
    "    data[\"hasBall\"] = data[\"distanceToBall\"].apply(lambda x: 1 if x < 2 else 0)\n",
    "    \n",
    "def transform(l, ball):\n",
    "    ball.reset_index(drop=True, inplace =True)    \n",
    "    result = []\n",
    "    for player in l:\n",
    "        player.reset_index(drop=True, inplace =True)\n",
    "        dist(player, ball)\n",
    "        hasBall(player)\n",
    "        result.append(player[(player.hasBall == 1)][[\"player_id\", \"team_id\", \"x_loc\", \"y_loc\"]])\n",
    "\n",
    "    \n",
    "    return pd.concat(result)\n",
    "\n",
    "        "
   ]
  },
  {
   "cell_type": "code",
   "execution_count": null,
   "metadata": {
    "collapsed": false
   },
   "outputs": [],
   "source": [
    "# Get moments from the zeroth event\n",
    "player_moments = []\n",
    "for event in data['events']:\n",
    "    for moment in event['moments']:\n",
    "        for player in moment[5]:\n",
    "            player_moments.append(player)\n",
    "\n",
    "df = pd.DataFrame(player_moments, columns=headers)\n",
    "df = df.head(min_5)\n",
    "\n",
    "# Get specific player's movements\n",
    "ball = df[df.player_id==-1]\n",
    "\n",
    "steph = df[df.player_id==201939]\n",
    "klay = df[df.player_id==202691]\n",
    "bogut = df[df.player_id==101106]\n",
    "green = df[df.player_id==203110]\n",
    "barnes = df[df.player_id==203084]\n",
    "\n",
    "lebron = df[df.player_id==2544]\n",
    "smith = df[df.player_id==2747]\n",
    "love = df[df.player_id==201567]\n",
    "irving = df[df.player_id==202681]\n",
    "mozgov = df[df.player_id==202389]\n",
    "\n",
    "# convert them to numpy arrays\n",
    "ballA = playerDFtoList(ball)\n",
    "\n",
    "stephA = playerDFtoList(steph)\n",
    "klayA = playerDFtoList(klay)\n",
    "bogutA = playerDFtoList(bogut)\n",
    "greenA = playerDFtoList(green)\n",
    "barnesA = playerDFtoList(barnes)\n",
    "\n",
    "lebronA = playerDFtoList(lebron)\n",
    "smithA = playerDFtoList(smith)\n",
    "loveA = playerDFtoList(love)\n",
    "irvingA = playerDFtoList(irving)\n",
    "mozgovA = playerDFtoList(mozgov)\n",
    "\n",
    "#Get ball radiuses\n",
    "radii = ball['radius'].tolist()"
   ]
  },
  {
   "cell_type": "code",
   "execution_count": null,
   "metadata": {
    "collapsed": false
   },
   "outputs": [],
   "source": [
    "l = [steph,klay,bogut ,green ,barnes ,lebron,smith,love,irving,mozgov]\n",
    "\n",
    "a = transform(l, ball)"
   ]
  },
  {
   "cell_type": "code",
   "execution_count": null,
   "metadata": {
    "collapsed": false
   },
   "outputs": [],
   "source": [
    "a = a.sort_index()\n",
    "idx = np.unique(a.index, return_index=True)[1]\n",
    "a= a.iloc[idx]\n",
    "index = np.arange(0, min_5/11, 1)\n",
    "\n",
    "a = a.reindex(index, fill_value=0)\n",
    "a_pos = playerDFtoList(a)"
   ]
  },
  {
   "cell_type": "code",
   "execution_count": null,
   "metadata": {
    "collapsed": false,
    "scrolled": true
   },
   "outputs": [],
   "source": [
    "def distance(ball):\n",
    "    basket1 = [5.32, 24.8]\n",
    "    basket2 = [88.55, 24.8]\n",
    "    halfcourt = 47.0\n",
    "    \n",
    "    ball['cavsHoop'] = np.sqrt((basket1[0] - ball['x_loc'])**2 + (basket1[1] - ball['y_loc'])**2)\n",
    "    ball['warriorsHoop'] = np.sqrt((basket2[0] - ball['x_loc'])**2 + (basket2[1] - ball['y_loc'])**2)\n",
    "    \n",
    "distance(ball)\n",
    "ball"
   ]
  },
  {
   "cell_type": "code",
   "execution_count": null,
   "metadata": {
    "collapsed": false
   },
   "outputs": [],
   "source": [
    "ex = {}\n",
    "ex[\"ball\"] = ballA.tolist()\n",
    "\n",
    "ex[\"steph\"] = ballA.tolist()\n",
    "ex[\"klay\"] = klayA.tolist()\n",
    "ex[\"bogut\"] = bogutA.tolist()\n",
    "ex[\"green\"] = greenA.tolist()\n",
    "ex[\"barnes\"] = barnesA.tolist()\n",
    "\n",
    "\n",
    "ex[\"lebron\"] = lebronA.tolist()\n",
    "ex[\"smith\"] = smithA.tolist()\n",
    "ex[\"love\"] = loveA.tolist()\n",
    "ex[\"irving\"] = irvingA.tolist()\n",
    "ex[\"mozgov\"] = mozgovA.tolist()\n",
    "\n",
    "ex[\"pos\"] = a_pos.tolist()\n",
    "\n",
    "with open(\"dump.json\", \"w\") as outfile:\n",
    "    json.dump(ex, outfile)"
   ]
  }
 ],
 "metadata": {
  "kernelspec": {
   "display_name": "Python 2",
   "language": "python",
   "name": "python2"
  },
  "language_info": {
   "codemirror_mode": {
    "name": "ipython",
    "version": 2
   },
   "file_extension": ".py",
   "mimetype": "text/x-python",
   "name": "python",
   "nbconvert_exporter": "python",
   "pygments_lexer": "ipython2",
   "version": "2.7.11"
  }
 },
 "nbformat": 4,
 "nbformat_minor": 0
}
