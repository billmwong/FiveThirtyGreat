{
 "cells": [
  {
   "cell_type": "code",
   "execution_count": 42,
   "metadata": {
    "collapsed": true
   },
   "outputs": [],
   "source": [
    "import matplotlib.pyplot as plt\n",
    "import matplotlib.animation as animation\n",
    "import numpy as np\n",
    "%matplotlib inline\n",
    "import pandas as pd"
   ]
  },
  {
   "cell_type": "code",
   "execution_count": 70,
   "metadata": {
    "collapsed": false
   },
   "outputs": [],
   "source": [
    "import json\n",
    "from pprint import pprint\n",
    "\n",
    "def getGameJSON(path):\n",
    "    with open(path) as data_file:    \n",
    "        data = json.load(data_file)\n",
    "    return data\n",
    "        \n",
    "data = getGameJSON('GSWvsCLE.json')\n"
   ]
  },
  {
   "cell_type": "code",
   "execution_count": 5,
   "metadata": {
    "collapsed": false
   },
   "outputs": [
    {
     "data": {
      "text/plain": [
       "{'home': [201567,\n",
       "  2592,\n",
       "  202681,\n",
       "  202697,\n",
       "  2747,\n",
       "  203521,\n",
       "  203099,\n",
       "  202684,\n",
       "  2760,\n",
       "  202389,\n",
       "  2544,\n",
       "  2210,\n",
       "  2590],\n",
       " 'visitor': [201574,\n",
       "  201575,\n",
       "  201578,\n",
       "  2738,\n",
       "  202691,\n",
       "  101106,\n",
       "  2571,\n",
       "  203546,\n",
       "  203110,\n",
       "  201939,\n",
       "  203105,\n",
       "  2733,\n",
       "  203084]}"
      ]
     },
     "execution_count": 5,
     "metadata": {},
     "output_type": "execute_result"
    }
   ],
   "source": [
    "def getHomeVisitorIds(data):\n",
    "    visitors = data['events'][0]['visitor']['players']\n",
    "    home = data['events'][0]['home']['players']\n",
    "\n",
    "    visitor_ids = []\n",
    "    home_ids = []\n",
    "\n",
    "\n",
    "    for visitor in visitors:\n",
    "        visitor_ids.append(visitor['playerid'])    \n",
    "\n",
    "    for homie in home:\n",
    "        home_ids.append(homie['playerid'])  \n",
    "\n",
    "    return {'visitor': visitor_ids, 'home': home_ids}\n",
    "\n",
    "getHomeVisitorIds(data)"
   ]
  },
  {
   "cell_type": "code",
   "execution_count": null,
   "metadata": {
    "collapsed": true
   },
   "outputs": [],
   "source": []
  },
  {
   "cell_type": "code",
   "execution_count": null,
   "metadata": {
    "collapsed": true
   },
   "outputs": [],
   "source": []
  },
  {
   "cell_type": "code",
   "execution_count": null,
   "metadata": {
    "collapsed": true
   },
   "outputs": [],
   "source": []
  },
  {
   "cell_type": "code",
   "execution_count": null,
   "metadata": {
    "collapsed": true
   },
   "outputs": [],
   "source": []
  },
  {
   "cell_type": "code",
   "execution_count": 9,
   "metadata": {
    "collapsed": false
   },
   "outputs": [],
   "source": [
    "# read in the court png file\n",
    "court = plt.imread(\"fullcourt.png\")\n",
    "\n",
    "headers = [\"team_id\", \"player_id\", \"x_loc\", \"y_loc\", \n",
    "           \"radius\"]\n",
    "\n",
    "def playerDFtoList(frame):\n",
    "    xList = frame['x_loc'].tolist()\n",
    "    yList = frame['y_loc'].tolist()\n",
    "    bothList = []\n",
    "    for i in range(len(xList)):\n",
    "        bothList.append([ xList[i], yList[i] ])\n",
    "    return np.array(bothList)"
   ]
  },
  {
   "cell_type": "code",
   "execution_count": 11,
   "metadata": {
    "collapsed": false
   },
   "outputs": [],
   "source": [
    "def getMoments(data):\n",
    "    player_moments = []\n",
    "    for event in data['events']:\n",
    "        for moment in event['moments']:\n",
    "            for player in moment[5]:\n",
    "                player_moments.append(player)\n",
    "\n",
    "    df = pd.DataFrame(player_moments, columns=headers)\n",
    "    return df\n"
   ]
  },
  {
   "cell_type": "code",
   "execution_count": null,
   "metadata": {
    "collapsed": false
   },
   "outputs": [
    {
     "name": "stderr",
     "output_type": "stream",
     "text": [
      "/home/keenan/anaconda2/lib/python2.7/site-packages/ipykernel/__main__.py:32: SettingWithCopyWarning: \n",
      "A value is trying to be set on a copy of a slice from a DataFrame\n",
      "\n",
      "See the caveats in the documentation: http://pandas.pydata.org/pandas-docs/stable/indexing.html#indexing-view-versus-copy\n",
      "/home/keenan/anaconda2/lib/python2.7/site-packages/ipykernel/__main__.py:38: SettingWithCopyWarning: \n",
      "A value is trying to be set on a copy of a slice from a DataFrame\n",
      "\n",
      "See the caveats in the documentation: http://pandas.pydata.org/pandas-docs/stable/indexing.html#indexing-view-versus-copy\n",
      "/home/keenan/anaconda2/lib/python2.7/site-packages/ipykernel/__main__.py:44: SettingWithCopyWarning: \n",
      "A value is trying to be set on a copy of a slice from a DataFrame\n",
      "\n",
      "See the caveats in the documentation: http://pandas.pydata.org/pandas-docs/stable/indexing.html#indexing-view-versus-copy\n",
      "/home/keenan/anaconda2/lib/python2.7/site-packages/pandas/core/indexing.py:117: SettingWithCopyWarning: \n",
      "A value is trying to be set on a copy of a slice from a DataFrame\n",
      "\n",
      "See the caveats in the documentation: http://pandas.pydata.org/pandas-docs/stable/indexing.html#indexing-view-versus-copy\n",
      "  self._setitem_with_indexer(indexer, value)\n"
     ]
    }
   ],
   "source": [
    "def calculateDistance(x1,y1,x2,y2):\n",
    "     dist = np.sqrt((x2 - x1)**2 + (y2 - y1)**2)\n",
    "     return dist\n",
    "\n",
    "def distanceAndHandler(moment):\n",
    "    \n",
    "    df = getMoments(moment)\n",
    "    df['DistanceToBall'] = 0.0\n",
    "    df['DistanceToBasket'] = 0.0\n",
    "    df['HandlerId'] = 0.0\n",
    "    handler = ''\n",
    "    shortest_distance = 100.0\n",
    "    basket1 = [5.32, 24.8]\n",
    "    basket2 = [88.55, 24.8]\n",
    "    halfcourt = 47.0\n",
    "    \n",
    "    num_plays = 4\n",
    "        \n",
    "    for j in range(0,num_plays):\n",
    "        index = j + j*10\n",
    "        \n",
    "        play = df[index : index + 10]\n",
    "                \n",
    "        ballX = df.x_loc[index]\n",
    "        ballY = df.y_loc[index]\n",
    "\n",
    "        if ballX > halfcourt:\n",
    "            dist = calculateDistance(ballX, ballY, basket2[0], basket2[1])\n",
    "        elif ballX < halfcourt:\n",
    "            dist = calculateDistance(ballX, ballY, basket1[0], basket1[1])\n",
    "        \n",
    "        df.DistanceToBasket[index] = dist\n",
    "        \n",
    "        for i in range(index, index+11):\n",
    "            ballX = df.x_loc[index]\n",
    "            ballY = df.y_loc[index]\n",
    "            distToBall = float(calculateDistance(df.x_loc[i], df.y_loc[i], ballX, ballY))\n",
    "            df.DistanceToBall[i] = float(distToBall)\n",
    "\n",
    "            if distToBall > 0.0 and distToBall < shortest_distance:\n",
    "                shortest_distance = distToBall\n",
    "                handler = df.player_id[i]\n",
    "    \n",
    "            df.HandlerId[index] = handler\n",
    "        \n",
    "    return df\n",
    "\n",
    "\n",
    "data = getGameJSON('GSWvsCLE.json')\n",
    "distanceAndHandler(data).head(44)"
   ]
  },
  {
   "cell_type": "code",
   "execution_count": 104,
   "metadata": {
    "collapsed": false
   },
   "outputs": [
    {
     "data": {
      "text/plain": [
       "1610612739"
      ]
     },
     "execution_count": 104,
     "metadata": {},
     "output_type": "execute_result"
    }
   ],
   "source": [
    "def teamOnOffense(moment):\n",
    "    \n",
    "    df = getMoments(moment)\n",
    "\n",
    "    halfcourtX = 47.0\n",
    "    if df.x_loc[0] > halfcourtX:\n",
    "        return df.team_id[6]\n",
    "    elif df.x_loc[0] < halfcourtX:\n",
    "        return df.team_id[1]\n",
    "\n",
    "data = getGameJSON('GSWvsCLE.json')\n",
    "teamOnOffense(data)"
   ]
  },
  {
   "cell_type": "code",
   "execution_count": 103,
   "metadata": {
    "collapsed": false
   },
   "outputs": [
    {
     "data": {
      "text/plain": [
       "31.118304104743558"
      ]
     },
     "execution_count": 103,
     "metadata": {},
     "output_type": "execute_result"
    }
   ],
   "source": [
    "def distanceToBasket(moment):\n",
    "    basket1 = [5.32, 24.8]\n",
    "    basket2 = [88.55, 24.8]\n",
    "    halfcourt = 47.0\n",
    "    \n",
    "    ballX = moment.x_loc[0]\n",
    "    ballY = moment.y_loc[0]\n",
    "    \n",
    "    if ballX > halfcourt:\n",
    "        dist = calculateDistance(ballX, ballY, basket2[0], basket2[1])\n",
    "        return dist\n",
    "    elif ballX < halfcourt:\n",
    "        dist = calculateDistance(ballX, ballY, basket1[0], basket1[1])\n",
    "        return dist    \n",
    "    \n",
    "data = getGameJSON('GSWvsCLE.json')\n",
    "df = getMoments(data)\n",
    "distanceToBasket(df[0:11])"
   ]
  },
  {
   "cell_type": "code",
   "execution_count": null,
   "metadata": {
    "collapsed": true
   },
   "outputs": [],
   "source": []
  },
  {
   "cell_type": "code",
   "execution_count": null,
   "metadata": {
    "collapsed": true
   },
   "outputs": [],
   "source": []
  },
  {
   "cell_type": "code",
   "execution_count": 71,
   "metadata": {
    "collapsed": false
   },
   "outputs": [],
   "source": [
    "# Get moments from the zeroth event\n",
    "player_moments = []\n",
    "for event in data['events']:\n",
    "    for moment in event['moments']:\n",
    "        for player in moment[5]:\n",
    "            player_moments.append(player)\n",
    "\n",
    "df = pd.DataFrame(player_moments, columns=headers)\n",
    "\n",
    "# Get specific player's movements\n",
    "ball = df[df.player_id==-1]\n",
    "\n",
    "steph = df[df.player_id==201939]\n",
    "klay = df[df.player_id==202691]\n",
    "bogut = df[df.player_id==101106]\n",
    "green = df[df.player_id==203110]\n",
    "barnes = df[df.player_id==203084]\n",
    "\n",
    "lebron = df[df.player_id==2544]\n",
    "smith = df[df.player_id==2747]\n",
    "love = df[df.player_id==201567]\n",
    "irving = df[df.player_id==202681]\n",
    "mozgov = df[df.player_id==202389]\n",
    "\n",
    "# convert them to numpy arrays\n",
    "ballA = playerDFtoList(ball)\n",
    "\n",
    "stephA = playerDFtoList(steph)\n",
    "klayA = playerDFtoList(klay)\n",
    "bogutA = playerDFtoList(bogut)\n",
    "greenA = playerDFtoList(green)\n",
    "barnesA = playerDFtoList(barnes)\n",
    "\n",
    "lebronA = playerDFtoList(lebron)\n",
    "smithA = playerDFtoList(smith)\n",
    "loveA = playerDFtoList(love)\n",
    "irvingA = playerDFtoList(irving)\n",
    "mozgovA = playerDFtoList(mozgov)\n",
    "\n",
    "#Get ball radiuses\n",
    "radii = ball['radius'].tolist()"
   ]
  },
  {
   "cell_type": "code",
   "execution_count": 72,
   "metadata": {
    "collapsed": true
   },
   "outputs": [],
   "source": [
    "class AnimatedScatter(object):\n",
    "    \"\"\"An animated scatter plot using matplotlib.animations.FuncAnimation.\"\"\"\n",
    "    def __init__(self, playerLists, ballRadii):\n",
    "        self.numpoints = len(playerLists)\n",
    "        print 'numpoints:',self.numpoints\n",
    "        self.stream = self.data_stream()\n",
    "\n",
    "        self.ballRadii = ballRadii\n",
    "        \n",
    "        locations = []\n",
    "        for i in range(len(playerLists[0])):\n",
    "            # For each moment\n",
    "            locations.append([])\n",
    "            for player in playerLists:\n",
    "                try:\n",
    "                    locations[i].append(player[i])\n",
    "                except IndexError:\n",
    "                    break\n",
    "        self.locations = locations\n",
    "    \n",
    "        if self.numpoints == 11:\n",
    "            self.colorArray = np.array([0,1,1,1,1,1,2,2,2,2,2])\n",
    "        else:\n",
    "            self.colorArray = np.array([0] + [2]*(self.numpoints-1))\n",
    "        # Setup the figure and axes...\n",
    "        self.fig, self.ax = plt.subplots()\n",
    "        # Then setup FuncAnimation.\n",
    "        self.ani = animation.FuncAnimation(self.fig, self.update, interval=25, \n",
    "                                           init_func=self.setup_plot, blit=True)\n",
    "\n",
    "    def setup_plot(self):\n",
    "        \"\"\"Initial drawing of the scatter plot.\"\"\"\n",
    "        pos, c, i,r = next(self.stream)\n",
    "        self.scat = self.ax.scatter(2, 40, animated=True)\n",
    "        self.ax.axis([0, 94, 50, 0])\n",
    "#         self.ax.legend(['Event'])\n",
    "        \n",
    "#         self.eventnumber = plt.annotate(\"Event: 0\", xy =(20, 30), zorder=1)\n",
    "\n",
    "        # For FuncAnimation's sake, we need to return the artist we'll be using\n",
    "        # Note that it expects a sequence of artists, thus the trailing comma.\n",
    "        return self.scat,\n",
    "\n",
    "    def data_stream(self):\n",
    "        \"\"\"Generate a random walk (brownian motion). Data is scaled to produce\n",
    "        a soft \"flickering\" effect.\"\"\"\n",
    "        data = [[[],[],[]],[],[],[]]\n",
    "        data[1] = self.colorArray\n",
    "        \n",
    "        i = 0\n",
    "        while True:\n",
    "            data[0] = self.locations[i]\n",
    "            data[2] = i # this event number\n",
    "            data[3] = self.ballRadii[i]\n",
    "            i += 1\n",
    "            yield data\n",
    "\n",
    "    def update(self, i):\n",
    "        \"\"\"Update the scatter plot.\"\"\"\n",
    "        data = next(self.stream)\n",
    "\n",
    "        # Set x and y data...\n",
    "        self.scat.set_offsets(data[0])\n",
    "        # Set sizes...\n",
    "        self.scat._sizes = np.array([data[3]*4,120,120,120,120,120,120,120,120,120,120])\n",
    "        # Set colors..\n",
    "        self.scat.set_array(data[1])\n",
    "        \n",
    "        self.scat.set_label(\"Event man\")\n",
    "        \n",
    "#         self.eventnumber.remove()\n",
    "#         self.eventnumber = plt.annotate(\"Event: \"+str(data[2]), xy =(20, 30), zorder=1)\n",
    "#         draw()\n",
    "        \n",
    "#         self.scat.axes.legend(['poop'])\n",
    "\n",
    "        # We need to return the updated artist for FuncAnimation to draw..\n",
    "        # Note that it expects a sequence of artists, thus the trailing comma.\n",
    "        return self.scat,\n",
    "\n",
    "    def show(self):\n",
    "        plt.imshow(court, zorder=0, extent=[0,94,50,0])\n",
    "        plt.show()"
   ]
  },
  {
   "cell_type": "code",
   "execution_count": 73,
   "metadata": {
    "collapsed": false
   },
   "outputs": [
    {
     "name": "stdout",
     "output_type": "stream",
     "text": [
      "numpoints: 11\n"
     ]
    },
    {
     "data": {
      "image/png": "[encoded data removed]",
      "text/plain": [
       "<matplotlib.figure.Figure at 0x7fd8152da050>"
      ]
     },
     "metadata": {},
     "output_type": "display_data"
    }
   ],
   "source": [
    "a = AnimatedScatter([ballA, stephA, klayA, bogutA, greenA, barnesA, lebronA, smithA, loveA, irvingA, mozgovA],radii)\n",
    "# a = AnimatedScatter([ballA, irvingA, stephA])\n",
    "# a = AnimatedScatter([irvingA])\n",
    "a.show()"
   ]
  },
  {
   "cell_type": "code",
   "execution_count": 50,
   "metadata": {
    "collapsed": false
   },
   "outputs": [
    {
     "ename": "SyntaxError",
     "evalue": "invalid syntax (<ipython-input-50-0b0a0bc956e4>, line 1)",
     "output_type": "error",
     "traceback": [
      "\u001b[1;36m  File \u001b[1;32m\"<ipython-input-50-0b0a0bc956e4>\"\u001b[1;36m, line \u001b[1;32m1\u001b[0m\n\u001b[1;33m    just ball:\u001b[0m\n\u001b[1;37m            ^\u001b[0m\n\u001b[1;31mSyntaxError\u001b[0m\u001b[1;31m:\u001b[0m invalid syntax\n"
     ]
    }
   ],
   "source": [
    "just ball:\n",
    "[\n",
    "    [[28.64068], [45.403269999999999]],\n",
    "    [[28.52319], [45.279890000000002]],\n",
    "    [[28.38205], [45.163530000000002]]\n",
    "]\n",
    "\n",
    "\n",
    "with both:\n",
    "[\n",
    "    [[28.64068, 27.874120000000001], [45.403269999999999, 45.489800000000002]],\n",
    "    [[28.52319, 27.793469999999999], [45.279890000000002, 45.431060000000002]],\n",
    "    [[28.38205, 27.717929999999999], [45.163530000000002, 45.364379999999997]]\n",
    "]"
   ]
  },
  {
   "cell_type": "code",
   "execution_count": null,
   "metadata": {
    "collapsed": true
   },
   "outputs": [],
   "source": []
  },
  {
   "cell_type": "code",
   "execution_count": null,
   "metadata": {
    "collapsed": true
   },
   "outputs": [],
   "source": []
  },
  {
   "cell_type": "code",
   "execution_count": null,
   "metadata": {
    "collapsed": true
   },
   "outputs": [],
   "source": []
  },
  {
   "cell_type": "code",
   "execution_count": null,
   "metadata": {
    "collapsed": true
   },
   "outputs": [],
   "source": []
  },
  {
   "cell_type": "code",
   "execution_count": null,
   "metadata": {
    "collapsed": true
   },
   "outputs": [],
   "source": []
  },
  {
   "cell_type": "code",
   "execution_count": null,
   "metadata": {
    "collapsed": true
   },
   "outputs": [],
   "source": []
  },
  {
   "cell_type": "code",
   "execution_count": null,
   "metadata": {
    "collapsed": true
   },
   "outputs": [],
   "source": []
  },
  {
   "cell_type": "code",
   "execution_count": null,
   "metadata": {
    "collapsed": true
   },
   "outputs": [],
   "source": []
  },
  {
   "cell_type": "code",
   "execution_count": null,
   "metadata": {
    "collapsed": true
   },
   "outputs": [],
   "source": []
  },
  {
   "cell_type": "code",
   "execution_count": null,
   "metadata": {
    "collapsed": true
   },
   "outputs": [],
   "source": []
  }
 ],
 "metadata": {
  "kernelspec": {
   "display_name": "Python 2",
   "language": "python",
   "name": "python2"
  },
  "language_info": {
   "codemirror_mode": {
    "name": "ipython",
    "version": 2
   },
   "file_extension": ".py",
   "mimetype": "text/x-python",
   "name": "python",
   "nbconvert_exporter": "python",
   "pygments_lexer": "ipython2",
   "version": "2.7.11"
  }
 },
 "nbformat": 4,
 "nbformat_minor": 0
}
