{
 "cells": [
  {
   "cell_type": "code",
   "execution_count": 1,
   "metadata": {
    "collapsed": false
   },
   "outputs": [
    {
     "name": "stderr",
     "output_type": "stream",
     "text": [
      "/Users/bumho/anaconda/lib/python2.7/site-packages/matplotlib/font_manager.py:273: UserWarning: Matplotlib is building the font cache using fc-list. This may take a moment.\n",
      "  warnings.warn('Matplotlib is building the font cache using fc-list. This may take a moment.')\n"
     ]
    }
   ],
   "source": [
    "import matplotlib.pyplot as plt\n",
    "import matplotlib.animation as animation\n",
    "import numpy as np\n",
    "%matplotlib inline\n",
    "import pandas as pd"
   ]
  },
  {
   "cell_type": "code",
   "execution_count": 2,
   "metadata": {
    "collapsed": false
   },
   "outputs": [],
   "source": [
    "import json\n",
    "from pprint import pprint\n",
    "\n",
    "def getGameJSON(path):\n",
    "    with open(path) as data_file:    \n",
    "        data = json.load(data_file)\n",
    "    return data\n",
    "        \n",
    "data = getGameJSON('GSWvsCLE.json')\n"
   ]
  },
  {
   "cell_type": "code",
   "execution_count": 3,
   "metadata": {
    "collapsed": false
   },
   "outputs": [
    {
     "data": {
      "text/plain": [
       "{'home': [201567,\n",
       "  2592,\n",
       "  202681,\n",
       "  202697,\n",
       "  2747,\n",
       "  203521,\n",
       "  203099,\n",
       "  202684,\n",
       "  2760,\n",
       "  202389,\n",
       "  2544,\n",
       "  2210,\n",
       "  2590],\n",
       " 'visitor': [201574,\n",
       "  201575,\n",
       "  201578,\n",
       "  2738,\n",
       "  202691,\n",
       "  101106,\n",
       "  2571,\n",
       "  203546,\n",
       "  203110,\n",
       "  201939,\n",
       "  203105,\n",
       "  2733,\n",
       "  203084]}"
      ]
     },
     "execution_count": 3,
     "metadata": {},
     "output_type": "execute_result"
    }
   ],
   "source": [
    "def getHomeVisitorIds(data):\n",
    "    visitors = data['events'][0]['visitor']['players']\n",
    "    home = data['events'][0]['home']['players']\n",
    "\n",
    "    visitor_ids = []\n",
    "    home_ids = []\n",
    "\n",
    "\n",
    "    for visitor in visitors:\n",
    "        visitor_ids.append(visitor['playerid'])    \n",
    "\n",
    "    for homie in home:\n",
    "        home_ids.append(homie['playerid'])  \n",
    "\n",
    "    return {'visitor': visitor_ids, 'home': home_ids}\n",
    "\n",
    "getHomeVisitorIds(data)"
   ]
  },
  {
   "cell_type": "code",
   "execution_count": 4,
   "metadata": {
    "collapsed": false
   },
   "outputs": [],
   "source": [
    "# read in the court png file\n",
    "court = plt.imread(\"fullcourt.png\")\n",
    "\n",
    "headers = [\"team_id\", \"player_id\", \"x_loc\", \"y_loc\", \n",
    "           \"radius\"]\n",
    "\n",
    "def playerDFtoList(frame):\n",
    "    xList = frame['x_loc'].tolist()\n",
    "    yList = frame['y_loc'].tolist()\n",
    "    bothList = []\n",
    "    for i in range(len(xList)):\n",
    "        bothList.append([ xList[i], yList[i] ])\n",
    "    return np.array(bothList)"
   ]
  },
  {
   "cell_type": "code",
   "execution_count": 5,
   "metadata": {
    "collapsed": false
   },
   "outputs": [],
   "source": [
    "def getMoments(data):\n",
    "    player_moments = []\n",
    "    for event in data['events']:\n",
    "        for moment in event['moments']:\n",
    "            for player in moment[5]:\n",
    "                player_moments.append(player)\n",
    "\n",
    "    df = pd.DataFrame(player_moments, columns=headers)\n",
    "    return df\n"
   ]
  },
  {
   "cell_type": "code",
   "execution_count": 6,
   "metadata": {
    "collapsed": false
   },
   "outputs": [
    {
     "name": "stderr",
     "output_type": "stream",
     "text": [
      "/Users/bumho/anaconda/lib/python2.7/site-packages/ipykernel/__main__.py:32: SettingWithCopyWarning: \n",
      "A value is trying to be set on a copy of a slice from a DataFrame\n",
      "\n",
      "See the caveats in the documentation: http://pandas.pydata.org/pandas-docs/stable/indexing.html#indexing-view-versus-copy\n",
      "/Users/bumho/anaconda/lib/python2.7/site-packages/ipykernel/__main__.py:38: SettingWithCopyWarning: \n",
      "A value is trying to be set on a copy of a slice from a DataFrame\n",
      "\n",
      "See the caveats in the documentation: http://pandas.pydata.org/pandas-docs/stable/indexing.html#indexing-view-versus-copy\n",
      "/Users/bumho/anaconda/lib/python2.7/site-packages/ipykernel/__main__.py:44: SettingWithCopyWarning: \n",
      "A value is trying to be set on a copy of a slice from a DataFrame\n",
      "\n",
      "See the caveats in the documentation: http://pandas.pydata.org/pandas-docs/stable/indexing.html#indexing-view-versus-copy\n",
      "/Users/bumho/anaconda/lib/python2.7/site-packages/pandas/core/indexing.py:117: SettingWithCopyWarning: \n",
      "A value is trying to be set on a copy of a slice from a DataFrame\n",
      "\n",
      "See the caveats in the documentation: http://pandas.pydata.org/pandas-docs/stable/indexing.html#indexing-view-versus-copy\n",
      "  self._setitem_with_indexer(indexer, value)\n"
     ]
    }
   ],
   "source": [
    "def calculateDistance(x1,y1,x2,y2):\n",
    "     dist = np.sqrt((x2 - x1)**2 + (y2 - y1)**2)\n",
    "     return dist\n",
    "\n",
    "def distanceAndHandler(moment):\n",
    "    \n",
    "    df = getMoments(moment)\n",
    "    df['DistanceToBall'] = 0.0\n",
    "    df['DistanceToBasket'] = 0.0\n",
    "    df['HandlerId'] = 0.0\n",
    "    handler = ''\n",
    "    shortest_distance = 100.0\n",
    "    basket1 = [5.32, 24.8]\n",
    "    basket2 = [88.55, 24.8]\n",
    "    halfcourt = 47.0\n",
    "    \n",
    "    num_plays = 4\n",
    "        \n",
    "    for j in range(0,num_plays):\n",
    "        index = j + j*10\n",
    "        \n",
    "        play = df[index : index + 10]\n",
    "                \n",
    "        ballX = df.x_loc[index]\n",
    "        ballY = df.y_loc[index]\n",
    "\n",
    "        if ballX > halfcourt:\n",
    "            dist = calculateDistance(ballX, ballY, basket2[0], basket2[1])\n",
    "        elif ballX < halfcourt:\n",
    "            dist = calculateDistance(ballX, ballY, basket1[0], basket1[1])\n",
    "        \n",
    "        df.DistanceToBasket[index] = dist\n",
    "        \n",
    "        for i in range(index, index+11):\n",
    "            ballX = df.x_loc[index]\n",
    "            ballY = df.y_loc[index]\n",
    "            distToBall = float(calculateDistance(df.x_loc[i], df.y_loc[i], ballX, ballY))\n",
    "            df.DistanceToBall[i] = float(distToBall)\n",
    "\n",
    "            if distToBall > 0.0 and distToBall < shortest_distance:\n",
    "                shortest_distance = distToBall\n",
    "                handler = df.player_id[i]\n",
    "    \n",
    "            df.HandlerId[index] = handler\n",
    "        \n",
    "    return df\n",
    "\n",
    "\n",
    "data = getGameJSON('GSWvsCLE.json')\n",
    "a = distanceAndHandler(data)"
   ]
  },
  {
   "cell_type": "code",
   "execution_count": 7,
   "metadata": {
    "collapsed": false
   },
   "outputs": [
    {
     "data": {
      "text/plain": [
       "1610612739"
      ]
     },
     "execution_count": 7,
     "metadata": {},
     "output_type": "execute_result"
    }
   ],
   "source": [
    "def teamOnOffense(moment):\n",
    "    \n",
    "    df = getMoments(moment)\n",
    "\n",
    "    halfcourtX = 47.0\n",
    "    if df.x_loc[0] > halfcourtX:\n",
    "        return df.team_id[6]\n",
    "    elif df.x_loc[0] < halfcourtX:\n",
    "        return df.team_id[1]\n",
    "\n",
    "data = getGameJSON('GSWvsCLE.json')\n",
    "teamOnOffense(data)"
   ]
  },
  {
   "cell_type": "code",
   "execution_count": 8,
   "metadata": {
    "collapsed": false
   },
   "outputs": [
    {
     "data": {
      "text/plain": [
       "31.118304104743558"
      ]
     },
     "execution_count": 8,
     "metadata": {},
     "output_type": "execute_result"
    }
   ],
   "source": [
    "def distanceToBasket(moment):\n",
    "    basket1 = [5.32, 24.8]\n",
    "    basket2 = [88.55, 24.8]\n",
    "    halfcourt = 47.0\n",
    "    \n",
    "    ballX = moment.x_loc[0]\n",
    "    ballY = moment.y_loc[0]\n",
    "    \n",
    "    if ballX > halfcourt:\n",
    "        dist = calculateDistance(ballX, ballY, basket2[0], basket2[1])\n",
    "        return dist\n",
    "    elif ballX < halfcourt:\n",
    "        dist = calculateDistance(ballX, ballY, basket1[0], basket1[1])\n",
    "        return dist    \n",
    "    \n",
    "data = getGameJSON('GSWvsCLE.json')\n",
    "df = getMoments(data)\n",
    "distanceToBasket(df[0:11])"
   ]
  },
  {
   "cell_type": "code",
   "execution_count": null,
   "metadata": {
    "collapsed": true
   },
   "outputs": [],
   "source": []
  },
  {
   "cell_type": "code",
   "execution_count": null,
   "metadata": {
    "collapsed": true
   },
   "outputs": [],
   "source": []
  },
  {
   "cell_type": "code",
   "execution_count": null,
   "metadata": {
    "collapsed": true
   },
   "outputs": [],
   "source": []
  },
  {
   "cell_type": "code",
   "execution_count": 19,
   "metadata": {
    "collapsed": false
   },
   "outputs": [],
   "source": [
    "min_5 = 25*60*6*11\n",
    "\n",
    "def dist(data, ball):\n",
    "    data[\"distanceToBall\"] = np.sqrt((data[\"x_loc\"] -ball[\"x_loc\"])**2+ (data[\"y_loc\"] -ball[\"y_loc\"])**2)\n",
    "\n",
    "def hasBall(data):\n",
    "    data[\"hasBall\"] = data[\"distanceToBall\"].apply(lambda x: 1 if x < 1.8 else 0)\n",
    "    \n",
    "def transform(l, ball):\n",
    "    ball.reset_index(drop=True, inplace =True)    \n",
    "    result = []\n",
    "    for player in l:\n",
    "        player.reset_index(drop=True, inplace =True)\n",
    "        dist(player, ball)\n",
    "        hasBall(player)\n",
    "        result.append(player[(player.hasBall == 1)][[\"x_loc\", \"y_loc\"]])\n",
    "\n",
    "    \n",
    "    return pd.concat(result)\n",
    "\n",
    "        "
   ]
  },
  {
   "cell_type": "code",
   "execution_count": 25,
   "metadata": {
    "collapsed": true
   },
   "outputs": [],
   "source": [
    "# Get moments from the zeroth event\n",
    "player_moments = []\n",
    "for event in data['events']:\n",
    "    for moment in event['moments']:\n",
    "        for player in moment[5]:\n",
    "            player_moments.append(player)\n",
    "\n",
    "df = pd.DataFrame(player_moments, columns=headers)\n",
    "df = df.head(min_5)\n",
    "\n",
    "# Get specific player's movements\n",
    "ball = df[df.player_id==-1]\n",
    "\n",
    "steph = df[df.player_id==201939]\n",
    "klay = df[df.player_id==202691]\n",
    "bogut = df[df.player_id==101106]\n",
    "green = df[df.player_id==203110]\n",
    "barnes = df[df.player_id==203084]\n",
    "\n",
    "lebron = df[df.player_id==2544]\n",
    "smith = df[df.player_id==2747]\n",
    "love = df[df.player_id==201567]\n",
    "irving = df[df.player_id==202681]\n",
    "mozgov = df[df.player_id==202389]\n",
    "\n",
    "# convert them to numpy arrays\n",
    "ballA = playerDFtoList(ball)\n",
    "\n",
    "stephA = playerDFtoList(steph)\n",
    "klayA = playerDFtoList(klay)\n",
    "bogutA = playerDFtoList(bogut)\n",
    "greenA = playerDFtoList(green)\n",
    "barnesA = playerDFtoList(barnes)\n",
    "\n",
    "lebronA = playerDFtoList(lebron)\n",
    "smithA = playerDFtoList(smith)\n",
    "loveA = playerDFtoList(love)\n",
    "irvingA = playerDFtoList(irving)\n",
    "mozgovA = playerDFtoList(mozgov)\n",
    "\n",
    "#Get ball radiuses\n",
    "radii = ball['radius'].tolist()"
   ]
  },
  {
   "cell_type": "code",
   "execution_count": 26,
   "metadata": {
    "collapsed": false
   },
   "outputs": [
    {
     "name": "stderr",
     "output_type": "stream",
     "text": [
      "/Users/bumho/anaconda/lib/python2.7/site-packages/ipykernel/__main__.py:4: SettingWithCopyWarning: \n",
      "A value is trying to be set on a copy of a slice from a DataFrame.\n",
      "Try using .loc[row_indexer,col_indexer] = value instead\n",
      "\n",
      "See the caveats in the documentation: http://pandas.pydata.org/pandas-docs/stable/indexing.html#indexing-view-versus-copy\n",
      "/Users/bumho/anaconda/lib/python2.7/site-packages/ipykernel/__main__.py:7: SettingWithCopyWarning: \n",
      "A value is trying to be set on a copy of a slice from a DataFrame.\n",
      "Try using .loc[row_indexer,col_indexer] = value instead\n",
      "\n",
      "See the caveats in the documentation: http://pandas.pydata.org/pandas-docs/stable/indexing.html#indexing-view-versus-copy\n"
     ]
    }
   ],
   "source": [
    "l = [steph,klay,bogut ,green ,barnes ,lebron,smith,love,irving,mozgov]\n",
    "\n",
    "a = transform(l, ball)"
   ]
  },
  {
   "cell_type": "code",
   "execution_count": 27,
   "metadata": {
    "collapsed": false
   },
   "outputs": [
    {
     "data": {
      "text/plain": [
       "9000"
      ]
     },
     "execution_count": 27,
     "metadata": {},
     "output_type": "execute_result"
    }
   ],
   "source": [
    "a = a.sort_index()\n",
    "idx = np.unique(a.index, return_index=True)[1]\n",
    "a= a.iloc[idx]\n",
    "index = np.arange(0, min_5/11, 1)\n",
    "\n",
    "a = a.reindex(index, fill_value=0)\n",
    "a_pos = playerDFtoList(a)"
   ]
  },
  {
   "cell_type": "code",
   "execution_count": 32,
   "metadata": {
    "collapsed": false
   },
   "outputs": [],
   "source": [
    "ex = {}\n",
    "ex[\"ball\"] = ballA.tolist()\n",
    "\n",
    "ex[\"steph\"] = ballA.tolist()\n",
    "ex[\"klay\"] = klayA.tolist()\n",
    "ex[\"bogut\"] = bogutA.tolist()\n",
    "ex[\"green\"] = greenA.tolist()\n",
    "ex[\"barnes\"] = barnesA.tolist()\n",
    "\n",
    "\n",
    "ex[\"lebron\"] = lebronA.tolist()\n",
    "ex[\"smith\"] = smithA.tolist()\n",
    "ex[\"love\"] = loveA.tolist()\n",
    "ex[\"irving\"] = irvingA.tolist()\n",
    "ex[\"mozgov\"] = mozgovA.tolist()\n",
    "\n",
    "ex[\"pos\"] = a_pos.tolist()\n",
    "\n",
    "with open(\"dump.json\", \"w\") as outfile:\n",
    "    json.dump(ex, outfile)"
   ]
  }
 ],
 "metadata": {
  "kernelspec": {
   "display_name": "Python 2",
   "language": "python",
   "name": "python2"
  },
  "language_info": {
   "codemirror_mode": {
    "name": "ipython",
    "version": 2
   },
   "file_extension": ".py",
   "mimetype": "text/x-python",
   "name": "python",
   "nbconvert_exporter": "python",
   "pygments_lexer": "ipython2",
   "version": "2.7.11"
  }
 },
 "nbformat": 4,
 "nbformat_minor": 0
}
