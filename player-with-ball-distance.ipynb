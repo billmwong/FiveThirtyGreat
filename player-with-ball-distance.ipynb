{
 "cells": [
  {
   "cell_type": "code",
   "execution_count": 37,
   "metadata": {
    "collapsed": false
   },
   "outputs": [],
   "source": [
    "import matplotlib.pyplot as plt\n",
    "import matplotlib.animation as animation\n",
    "import numpy as np\n",
    "%matplotlib inline\n",
    "import pandas as pd\n",
    "import warnings\n",
    "warnings.filterwarnings('ignore')\n",
    "\n",
    "import shotpredictor\n",
    "\n",
    "import random"
   ]
  },
  {
   "cell_type": "code",
   "execution_count": 2,
   "metadata": {
    "collapsed": false
   },
   "outputs": [],
   "source": [
    "import json\n",
    "from pprint import pprint\n",
    "\n",
    "def getGameJSON(path):\n",
    "    with open(path) as data_file:    \n",
    "        data = json.load(data_file)\n",
    "    return data\n",
    "        \n",
    "data = getGameJSON('GSWvsCLE.json')\n"
   ]
  },
  {
   "cell_type": "code",
   "execution_count": 3,
   "metadata": {
    "collapsed": false
   },
   "outputs": [],
   "source": [
    "headers = [\"team_id\", \"player_id\", \"x_loc\", \"y_loc\", \n",
    "           \"radius\"]\n",
    "\n",
    "def playerDFtoList(frame):\n",
    "    xList = frame['x_loc'].tolist()\n",
    "    yList = frame['y_loc'].tolist()\n",
    "    bothList = []\n",
    "    for i in range(len(xList)):\n",
    "        bothList.append([ xList[i], yList[i] ])\n",
    "    return np.array(bothList)\n",
    "\n",
    "def getMoments(data):\n",
    "    player_moments = []\n",
    "    for event in data['events']:\n",
    "        for moment in event['moments']:\n",
    "            for player in moment[5]:\n",
    "                player_moments.append(player)\n",
    "\n",
    "    df = pd.DataFrame(player_moments, columns=headers)\n",
    "    return df"
   ]
  },
  {
   "cell_type": "markdown",
   "metadata": {},
   "source": [
    "### Data Extraction\n",
    "\n",
    "Since we the json file we have are just coordinates we have to actually calculate all of the parameters ourselves. Parameters like distanceToBall, who has the ball, closestDefender"
   ]
  },
  {
   "cell_type": "code",
   "execution_count": 4,
   "metadata": {
    "collapsed": false
   },
   "outputs": [],
   "source": [
    "min_5 = 25*60*6*11\n",
    "# index = np.arange(0, min_5/11, 1)\n",
    "index = np.arange(0, 6812, 1)\n",
    "\n",
    "def dist(data, ball):\n",
    "    data[\"distanceToBall\"] = np.sqrt((data[\"x_loc\"] -ball[\"x_loc\"])**2+ (data[\"y_loc\"] -ball[\"y_loc\"])**2)\n",
    "\n",
    "def getDistBetween(a,b):\n",
    "    return np.sqrt((a[\"x_loc\"] - b[\"x_loc\"])**2 + (a[\"y_loc\"] - b[\"y_loc\"])**2)\n",
    "    \n",
    "def hasBall(data):\n",
    "    data[\"hasBall\"] = data[\"distanceToBall\"].apply(lambda x: 1 if x < 2.5 else 0)\n",
    " \n",
    "def defDist(l):\n",
    "    # Order: [steph, klay, bogut, green, barnes, lebron, smith, love, irving, mozgov]\n",
    "    for player in l:\n",
    "        if (player['team_id'][0] == 1610612739):\n",
    "            # CLE player, get dist to all GSW players\n",
    "            player['distToCurry'] = getDistBetween(player, l[0])\n",
    "            player['distToThompson'] = getDistBetween(player, l[1])\n",
    "            player['distToBogut'] = getDistBetween(player, l[2])\n",
    "            player['distToGreen'] = getDistBetween(player, l[3])\n",
    "            player['distToBarnes'] = getDistBetween(player, l[4])\n",
    "            player['distToNearestDef'] = player.loc[:, ['distToCurry', 'distToThompson', 'distToBogut', 'distToGreen', 'distToBarnes']].min(axis=1)\n",
    "            # Drop columns 7-11\n",
    "            player.drop(player.columns[[5, 6, 7, 8, 9]], axis=1, inplace=True)            \n",
    "        elif (player['team_id'][0] == 1610612744):\n",
    "            # GSW player, get dist to all CLE players\n",
    "            player['distToJames'] = getDistBetween(player, l[5])\n",
    "            player['distToSmith'] = getDistBetween(player, l[6])\n",
    "            player['distToLove'] = getDistBetween(player, l[7])\n",
    "            player['distToIrving'] = getDistBetween(player, l[8])\n",
    "            player['distToMozgov'] = getDistBetween(player, l[9])\n",
    "            player['distToNearestDef'] = player.loc[:, ['distToJames', 'distToSmith', 'distToLove', 'distToIrving', 'distToMozgov']].min(axis=1)\n",
    "            # Drop columns 7-11\n",
    "            player.drop(player.columns[[5, 6, 7, 8, 9]], axis=1, inplace=True)\n",
    "\n",
    "\n",
    "def transform(l, ball, skipRanges):\n",
    "    ball.reset_index(drop=True, inplace =True)    \n",
    "    result = []\n",
    "    for r in skipRanges:\n",
    "        ball.drop(ball.index[r[0]:r[1]], inplace=True)\n",
    "    ball.reset_index(drop=True, inplace =True)    \n",
    "    print \"reset ball\"\n",
    "    \n",
    "    for player in l:\n",
    "        player.reset_index(drop=True, inplace =True)\n",
    "        for r in skipRanges:\n",
    "            player.drop(player.index[r[0]:r[1]], inplace=True)\n",
    "        player.reset_index(drop=True, inplace =True)\n",
    "\n",
    "        \n",
    "    defDist(l)\n",
    "    for player in l:\n",
    "        dist(player, ball)\n",
    "        hasBall(player)\n",
    "        result.append(player[(player.hasBall == 1)][[\"player_id\", \"team_id\", \"x_loc\", \"y_loc\", \"distToNearestDef\"]])\n",
    "        \n",
    "    df_res = pd.concat(result)\n",
    "    pos = df_res.sort_index()\n",
    "    idx = np.unique(pos.index, return_index=True)[1]\n",
    "    pos= pos.iloc[idx]\n",
    "    print \"reindexing\"\n",
    "    pos = pos.reindex(index, fill_value=0)\n",
    "    return pos\n",
    "\n",
    "def removeRepeats(seq):\n",
    "    seen = set()\n",
    "    seen_add = seen.add\n",
    "    return [x for x in seq if not (x in seen or seen_add(x))]        "
   ]
  },
  {
   "cell_type": "code",
   "execution_count": 26,
   "metadata": {
    "collapsed": true
   },
   "outputs": [],
   "source": [
    "# Get moments from the zeroth event\n",
    "player_moments = []\n",
    "endsOfEvents = []\n",
    "counter = -1\n",
    "for event in data['events']:\n",
    "    for moment in event['moments']:\n",
    "        counter += 1\n",
    "        for player in moment[5]:\n",
    "            player_moments.append(player)\n",
    "    endsOfEvents.append(counter)\n",
    "\n",
    "df = pd.DataFrame(player_moments, columns=headers)\n",
    "df = df.head(min_5)\n",
    "endsOfEvents = removeRepeats(endsOfEvents)"
   ]
  },
  {
   "cell_type": "code",
   "execution_count": 27,
   "metadata": {
    "collapsed": false
   },
   "outputs": [],
   "source": [
    "# Get specific player's movements\n",
    "ball = df[df.player_id==-1]\n",
    "\n",
    "steph_df = df[df.player_id==201939]\n",
    "klay_df = df[df.player_id==202691]\n",
    "bogut_df = df[df.player_id==101106]\n",
    "green_df = df[df.player_id==203110]\n",
    "barnes_df = df[df.player_id==203084]\n",
    "\n",
    "lebron_df = df[df.player_id==2544]\n",
    "smith_df = df[df.player_id==2747]\n",
    "love_df = df[df.player_id==201567]\n",
    "irving_df = df[df.player_id==202681]\n",
    "mozgov_df = df[df.player_id==202389]\n",
    "\n",
    "ballA = playerDFtoList(ball)"
   ]
  },
  {
   "cell_type": "markdown",
   "metadata": {},
   "source": [
    "The moment repeats so looked for the ranges of indices we have to skip to clean the data"
   ]
  },
  {
   "cell_type": "code",
   "execution_count": 28,
   "metadata": {
    "collapsed": false
   },
   "outputs": [
    {
     "name": "stdout",
     "output_type": "stream",
     "text": [
      "Ranges to skip: [[149, 299], [922, 1360], [1360, 1510], [1885, 2410], [2410, 2560], [2885, 3360], [3360, 3510], [3881, 4031]]\n"
     ]
    }
   ],
   "source": [
    "# Get the indexes that overlap\n",
    "skipRanges = []\n",
    "# Only get the first 17 indices b/c we're only doing the first 5 minutes of the game\n",
    "for eventEndIndex in endsOfEvents[:18]:\n",
    "    lastLocation = ballA[eventEndIndex]\n",
    "#     print '       Event end at '+str(eventEndIndex)+':',lastLocation\n",
    "    for i in range(eventEndIndex+1,len(ballA[eventEndIndex+1:])):\n",
    "        if (ballA[i] == lastLocation).all():\n",
    "#             print 'matched location at '+str(i)+':',ballA[i]\n",
    "            skipRanges.append([eventEndIndex, i])\n",
    "            break\n",
    "print 'Ranges to skip:',skipRanges"
   ]
  },
  {
   "cell_type": "code",
   "execution_count": 29,
   "metadata": {
    "collapsed": false,
    "scrolled": true
   },
   "outputs": [
    {
     "name": "stdout",
     "output_type": "stream",
     "text": [
      "reset ball\n",
      "reindexing\n"
     ]
    }
   ],
   "source": [
    "l = [steph_df,klay_df,bogut_df,green_df,barnes_df,lebron_df,smith_df,love_df,irving_df,mozgov_df]\n",
    "\n",
    "pos = transform(l, ball, skipRanges)\n",
    "a_pos = playerDFtoList(pos)"
   ]
  },
  {
   "cell_type": "code",
   "execution_count": 31,
   "metadata": {
    "collapsed": false,
    "scrolled": true
   },
   "outputs": [],
   "source": [
    "def distance(ball):\n",
    "    basket1 = [5.32, 24.8]\n",
    "    basket2 = [88.55, 24.8]\n",
    "    halfcourt = 47.0\n",
    "    \n",
    "    ball['cavsHoop'] = np.sqrt((basket1[0] - ball['x_loc'])**2 + (basket1[1] - ball['y_loc'])**2)\n",
    "    ball['warriorsHoop'] = np.sqrt((basket2[0] - ball['x_loc'])**2 + (basket2[1] - ball['y_loc'])**2)\n",
    "    \n",
    "distance(ball)"
   ]
  },
  {
   "cell_type": "code",
   "execution_count": 32,
   "metadata": {
    "collapsed": false
   },
   "outputs": [],
   "source": [
    "pos = pd.concat([pos, ball[[\"cavsHoop\", \"warriorsHoop\"]]], axis=1)"
   ]
  },
  {
   "cell_type": "code",
   "execution_count": 33,
   "metadata": {
    "collapsed": false
   },
   "outputs": [],
   "source": [
    "dic = {201939 : \"stephen curry\",\n",
    "202691 : \"klay thompson\",\n",
    "101106 : \"andrew bogut\",\n",
    "203110 : \"draymond green\",\n",
    "203084 : \"harrison barnes\",\n",
    "2544 : \"lebron james\",\n",
    "2747 : \"j.r. smith\",\n",
    "201567 : \"kevin love\",\n",
    "202681 : \"kyrie irving\",\n",
    "202389 : \"timofey mozgov\"}\n",
    "team = {\"1610612744\":\"Warriors\",\n",
    "\"1610612739\": \"Cavaliers\"}"
   ]
  },
  {
   "cell_type": "code",
   "execution_count": 13,
   "metadata": {
    "collapsed": true
   },
   "outputs": [],
   "source": [
    "guards_100 = [\n",
    "    \"James Harden\",\"Damian Lillard\",\"Chris Paul\",\"John Wall\",\"Eric Bledsoe\",\"Joe Johnson\",\"Kyrie Irving\",\"Monta Ellis\",\n",
    "     \"Tyreke Evans\",\"Ben McLemore\",\"Ty Lawson\",\"Goran Dragic\",\"Stephen Curry\",\"Kentavious Caldwell-Pope\",\"Victor Oladipo\",\n",
    "     \"Jimmy Butler\",\"Arron Afflalo\",\"Elfrid Payton\",\"Klay Thompson\",\"Avery Bradley\",\"Kyle Korver\",\"Kyle Lowry\",\n",
    "     \"JJ Redick\",\"Mario Chalmers\",\"Courtney Lee\",\"Gerald Henderson\",\"Danny Green\",\"Russell Westbrook\",\"Trey Burke\",\n",
    "     \"Reggie Jackson\",\"Evan Turner\",\"Jarrett Jack\",\"Jeff Teague\",\"Mike Conley\",\"Dion Waiters\",\"Michael Carter-Williams\",\n",
    "     \"Kemba Walker\",\"Deron Williams\",\"Bradley Beal\",\"DeMar DeRozan\",\"J.R. Smith\",\"Andre Iguodala\",\"Brandon Knight\",\n",
    "     \"Wesley Matthews\",\"Eric Gordon\",\"Rajon Rondo\",\"Lou Williams\"]\n",
    "    \n",
    "#     ,\"Greivis Vasquez\",\"Mo Williams\",\"Dwyane Wade\",\"D.J. Augustin\",\n",
    "#      \"Tony Parker\",\"Jeremy Lin\",\"Zach LaVine\",\"Aaron Brooks\",\"Rodney Stuckey\",\"Shane Larkin\",\"Bojan Bogdanovic\",\"CJ Miles\",\n",
    "#      \"Norris Cole\",\"Dante Exum\",\"Marcus Smart\",\"Anthony Morrow\",\"Quincy Pondexter\",\"Hollis Thompson\",\"Alan Anderson\",\n",
    "#      \"Patrick Beverley\",\"Isaiah Thomas\",\"Jerryd Bayless\",\"Jamal Crawford\",\"O.J. Mayo\",\"Devin Harris\",\"Tim Hardaway\",\n",
    "#      \"Wayne Ellington\",\"Evan Fournier\",\"Tony Allen\",\"Jason Terry\",\"Kirk Hinrich\",\"Manu Ginobili\",\"Lance Stephenson\",\n",
    "#      \"Darren Collison\",\"Austin Rivers\",\"Iman Shumpert\",\"Derrick Rose\",\"Steve Blake\",\"Dennis Schroder\",\"Rasual Butler\",\n",
    "#      \"Beno Udrih\",\"Jordan Clarkson\",\"Shaun Livingston\",\"Jodie Meeks\",\"Langston Galloway\",\"Gerald Green\",\"Cory Joseph\",\n",
    "#      \"Ray McCallum\",\"CJ Watson\",\"Tony Snell\",\"Jameer Nelson\",\"Marco Belinelli\",\"Matthew Dellavedova\"\n",
    "# ]\n",
    "\n",
    "forwards_100 = [\n",
    "    \"Andrew Wiggins\",\"Trevor Ariza\",\"Pau Gasol\",\"Gordon Hayward\",\"Markieff Morris\",\"Giannis Antetokounmpo\",\"Kevin Love\",\n",
    "    \"LaMarcus Aldridge\",\"LeBron James\",\"Draymond Green\",\"Wilson Chandler\",\"Anthony Davis\",\"Jeff Green\",\"Thaddeus Young\",\n",
    "    \"Luol Deng\",\"Rudy Gay\",\"Paul Millsap\",\"PJ Tucker\",\"Solomon Hill\",\"Nicolas Batum\",\"Khris Middleton\",\"Tobias Harris\",\n",
    "    \"Blake Griffin\",\"Harrison Barnes\",\"Al Horford\",\"Nerlens Noel\",\"Zach Randolph\",\"Josh Smith\",\"Dirk Nowitzki\",\n",
    "    \"Derrick Favors\",\"Matt Barnes\",\"Wesley Johnson\",\"Tim Duncan\",\"Tristan Thompson\",\"DeMarre Carroll\",\"Chandler Parsons\",\n",
    "    \"Patrick Patterson\",\"Serge Ibaka\",\"Terrence Ross\",\"Corey Brewer\",\"Kenneth Faried\",\"Marcus Morris\",\"Donatas Motiejunas\",\n",
    "    \"Marvin Williams\",\"Kawhi Leonard\",\"Jason Thompson\",\"Boris Diaw\",\"Amir Johnson\",\"Robert Covington\",\"Brandon Bass\",\n",
    "    \"Paul Pierce\",\"David West\",\"Channing Frye\",\"Ed Davis\"]\n",
    "# ,\"Mike Dunleavy\",\"Jason Smith\",\"Mason Plumlee\",\n",
    "#     \"Kyle Singler\",\"Tyler Zeller\",\"Jared Dudley\",\"Taj Gibson\",\"Ryan Anderson\",\"Joe Ingles\",\"Luis Scola\",\n",
    "#     \"Nikola Mirotic\",\"Dante Cunningham\",\"Jae Crowder\",\"Caron Butler\",\"Michael Kidd-Gilchrist\",\"Jared Sullinger\",\"Trevor Booker\",\n",
    "#     \"Chris Bosh\",\"Lance Thomas\",\"Cody Zeller\",\"Derrick Williams\",\"Brandan Wright\",\"Otto Porter\",\"Anthony Tolliver\",\n",
    "#     \"Carmelo Anthony\",\"Danilo Gallinari\",\"Kelly Olynyk\",\"Omri Casspi\",\"JJ Hickson\",\"Tayshaun Prince\",\"Jerami Grant\",\n",
    "#     \"James Johnson\",\"Al-Farouq Aminu\",\"Kris Humphries\",\"Ersan Ilyasova\",\"Quincy Acy\",\"Chase Budinger\",\"Amar'e Stoudemire\",\n",
    "#     \"Richard Jefferson\",\"Kevin Seraphin\",\"Ryan Kelly\",\"Jonas Jerebko\",\"John Henson\",\"Carl Landry\"\n",
    "# ]\n",
    "\n",
    "centers_100 = [\n",
    "    \"DeAndre Jordan\",\"Marc Gasol\",\"Nikola Vucevic\",\"Andre Drummond\",\"Marcin Gortat\",\"Tyson Chandler\",\"Gorgui Dieng\",\n",
    "    \"Rudy Gobert\",\"Greg Monroe\",\"Enes Kanter\",\"Brook Lopez\",\"Jonas Valanciunas\",\"Joakim Noah\",\"Timofey Mozgov\",\n",
    "    \"DeMarcus Cousins\",\"Al Jefferson\",\"Omer Asik\",\"Roy Hibbert\",\"Jordan Hill\",\"Steven Adams\",\"Zaza Pachulia\",\n",
    "    \"Robin Lopez\",\"Andrew Bogut\",\"Alex Len\",\"Henry Sims\",\"Chris Kaman\",\"Kosta Koufos\",\"Spencer Hawes\",\"Bismack Biyombo\",\n",
    "    \"Dwight Howard\",\"Marreese Speights\",\"Tarik Black\",\"Miles Plumlee\",\"Kendrick Perkins\",\"Ian Mahinmi\",\"Hassan Whiteside\",\n",
    "    \"Robert Sacre\",\"Aron Baynes\",\"Jusuf Nurkic\",\"Cole Aldrich\",\"Alexis Ajinca\",\"Meyers Leonard\",\"Dewayne Dedmon\",\n",
    "    \"Kyle O'Quinn\",\"Nikola Pekovic\",\"Justin Hamilton\",\"Samuel Dalembert\",\"Festus Ezeli\",\"Ryan Hollins\",\"Joel Anthony\",\n",
    "    \"Jerome Jordan\",\"Greg Smith\",\"Jeff Withey\",\"JaVale McGee\",\"Bernard James\",\"Earl Barron\",\"Nazr Mohammed\",\"Clint Capela\"\n",
    "]"
   ]
  },
  {
   "cell_type": "code",
   "execution_count": 34,
   "metadata": {
    "collapsed": true
   },
   "outputs": [],
   "source": [
    "def shot_dist(dist):\n",
    "    if dist < 8:\n",
    "        return \"less than 8\"\n",
    "    elif dist < 16:\n",
    "        return \"8-16\"\n",
    "    elif dist < 24:\n",
    "        return \"16-24\"\n",
    "    else:\n",
    "        return \"24+\"\n",
    "    \n",
    "def shot_decide(dist):\n",
    "    if dist == 0:\n",
    "        return 0\n",
    "    elif dist < 8:\n",
    "        if random.randint(0, 4) == 0:\n",
    "            return \"else\"\n",
    "        else:\n",
    "            return \"layup\"\n",
    "    else:\n",
    "        return \"jump\"\n",
    "    \n",
    "def addParameters(data):\n",
    "    data = data.copy()\n",
    "    a = data[\"cavsHoop\"][data[\"team_id\"] == 1610612739]\n",
    "    b= data[\"warriorsHoop\"][data[\"team_id\"] == 1610612744]\n",
    "#     add distanceToBasket\n",
    "    data[\"distanceToBasket\"] = pd.concat([a,b]).reindex(index, fill_value=0)\n",
    "    \n",
    "    shot_dist_c = pd.get_dummies(data[\"distanceToBasket\"].apply(shot_dist))\n",
    "    \n",
    "    shot_decide_c = pd.get_dummies(data[\"distanceToBasket\"].apply(shot_decide))\n",
    "    \n",
    "    data[\"player\"] = data[\"player_id\"].apply(lambda x: 0 if x == 0 else dic[x])\n",
    "    \n",
    "    \n",
    "    \n",
    "#     return pd.concat([data, shot_dist_c,shot_decide_c], axis =1)\n",
    "    return pd.concat([data,shot_decide_c], axis =1)\n",
    "#     return shot_dist_c\n",
    "    "
   ]
  },
  {
   "cell_type": "code",
   "execution_count": 35,
   "metadata": {
    "collapsed": false,
    "scrolled": true
   },
   "outputs": [],
   "source": [
    "final = addParameters(pos)"
   ]
  },
  {
   "cell_type": "code",
   "execution_count": 38,
   "metadata": {
    "collapsed": false
   },
   "outputs": [],
   "source": [
    "curry, thompson, bogut, green, barnes, james, smith, love, irving, timofey= 0,0,0,0,0,0,0,0,0,0\n",
    "model_dic = {201939 : curry,\n",
    "202691 : thompson,\n",
    "101106 : bogut,\n",
    "203110 : green,\n",
    "203084 : barnes,\n",
    "2544 : james,\n",
    "2747 : smith,\n",
    "201567 : love,\n",
    "202681 : irving,\n",
    "202389 :timofey }\n"
   ]
  },
  {
   "cell_type": "code",
   "execution_count": null,
   "metadata": {
    "collapsed": false
   },
   "outputs": [],
   "source": [
    "guards_model, guards_pred = shotpredictor.large_model(guards_100)"
   ]
  },
  {
   "cell_type": "code",
   "execution_count": null,
   "metadata": {
    "collapsed": true
   },
   "outputs": [],
   "source": [
    "forwards_model, forwards_pred = shotpredictor.large_model(forwards_100)"
   ]
  },
  {
   "cell_type": "code",
   "execution_count": null,
   "metadata": {
    "collapsed": true
   },
   "outputs": [],
   "source": [
    "centers_model, centers_pred = shotpredictor.large_model(centers_100)"
   ]
  },
  {
   "cell_type": "code",
   "execution_count": null,
   "metadata": {
    "collapsed": true
   },
   "outputs": [],
   "source": [
    "large_dic = {201939 : [guards_model, guards_pred],\n",
    "202691 : [guards_model,guards_pred],\n",
    "101106 : [centers_model, centers_guard],\n",
    "203110 : [forwards_model,forwards_pred],\n",
    "203084 : [forwards_model,forwards_pred],\n",
    "2544 : [forwards_model,forwards_pred],\n",
    "2747 : [guards_model,guards_pred],\n",
    "201567 : [forwards_model,forwards_pred], \n",
    "202681 : [guards_model,guards_pred],\n",
    "202389 : [centers_model, centers_guard] }"
   ]
  },
  {
   "cell_type": "code",
   "execution_count": 39,
   "metadata": {
    "collapsed": false
   },
   "outputs": [
    {
     "name": "stdout",
     "output_type": "stream",
     "text": [
      "lebron james\n",
      "andrew bogut\n",
      "stephen curry\n",
      "timofey mozgov\n",
      "draymond green\n",
      "kyrie irving\n",
      "j.r. smith\n",
      "harrison barnes\n",
      "klay thompson\n",
      "kevin love\n"
     ]
    }
   ],
   "source": [
    "for player_id in dic:\n",
    "    print dic[player_id]\n",
    "    model_dic[player_id] = shotpredictor.predictor(dic[player_id], \"2014\")"
   ]
  },
  {
   "cell_type": "code",
   "execution_count": 40,
   "metadata": {
    "collapsed": false
   },
   "outputs": [
    {
     "data": {
      "text/plain": [
       "array([[ 0.56197687,  0.43802313]])"
      ]
     },
     "execution_count": 40,
     "metadata": {},
     "output_type": "execute_result"
    }
   ],
   "source": [
    "model_dic[201939].predict_proba([24,6,0,1,0])"
   ]
  },
  {
   "cell_type": "code",
   "execution_count": null,
   "metadata": {
    "collapsed": true
   },
   "outputs": [],
   "source": [
    "def buildOneHot(player, pred):\n",
    "    a = []\n",
    "    for p in pred:\n",
    "        if p == player:\n",
    "            a.append(1)\n",
    "        else:\n",
    "            a.append(0)\n",
    "    return a\n",
    "    "
   ]
  },
  {
   "cell_type": "code",
   "execution_count": 41,
   "metadata": {
    "collapsed": false
   },
   "outputs": [],
   "source": [
    "# pred = final[['distanceToBasket', 'else', 'jump', 'layup']]\n",
    "# pct = [] \n",
    "# for i,j in pred.iterrows():\n",
    "#     p_id = final[\"player_id\"][i]\n",
    "#     if p_id == 0:\n",
    "#         pct.append(0)\n",
    "#     else:\n",
    "#         p_array = buidOneHot(dic[p_id], model_dic[p_id])\n",
    "#         pct.append(model_dic[p_id].predict_proba(p_array + j.tolist())[0][1])\n",
    "# final[\"pct\"] = pct\n",
    "\n",
    "pred = final[['distanceToBasket', 'distToNearestDef', 'else', 'jump', 'layup']]\n",
    "# pred = final[['distanceToBasket', 'else', 'jump', 'layup']]\n",
    "pct = [] \n",
    "for i,j in pred.iterrows():\n",
    "    p_id = final[\"player_id\"][i]\n",
    "    if p_id == 0:\n",
    "        pct.append(0)\n",
    "    else:\n",
    "        pct.append(model_dic[p_id].predict_proba(j.tolist())[0][1])\n",
    "final[\"pct\"] = pct"
   ]
  },
  {
   "cell_type": "code",
   "execution_count": 42,
   "metadata": {
    "collapsed": false
   },
   "outputs": [
    {
     "data": {
      "text/plain": [
       "0       0.453221\n",
       "1       0.452461\n",
       "2       0.451660\n",
       "3       0.450713\n",
       "4       0.449774\n",
       "5       0.448798\n",
       "6       0.448578\n",
       "7       0.448343\n",
       "8       0.447946\n",
       "9       0.447535\n",
       "10      0.447078\n",
       "11      0.446585\n",
       "12      0.446042\n",
       "13      0.445481\n",
       "14      0.445002\n",
       "15      0.444573\n",
       "16      0.444381\n",
       "17      0.443748\n",
       "18      0.443212\n",
       "19      0.442915\n",
       "20      0.442356\n",
       "21      0.441783\n",
       "22      0.441110\n",
       "23      0.440199\n",
       "24      0.439250\n",
       "25      0.000000\n",
       "26      0.000000\n",
       "27      0.000000\n",
       "28      0.000000\n",
       "29      0.000000\n",
       "          ...   \n",
       "6782    0.339082\n",
       "6783    0.342560\n",
       "6784    0.347076\n",
       "6785    0.349210\n",
       "6786    0.353418\n",
       "6787    0.358658\n",
       "6788    0.365697\n",
       "6789    0.372218\n",
       "6790    0.378485\n",
       "6791    0.382311\n",
       "6792    0.593749\n",
       "6793    0.597147\n",
       "6794    0.597841\n",
       "6795    0.507111\n",
       "6796    0.601180\n",
       "6797    0.602917\n",
       "6798    0.601053\n",
       "6799    0.598585\n",
       "6800    0.597706\n",
       "6801    0.683795\n",
       "6802    0.383158\n",
       "6803    0.380892\n",
       "6804    0.381518\n",
       "6805    0.383666\n",
       "6806    0.388842\n",
       "6807    0.606537\n",
       "6808    0.518317\n",
       "6809    0.522259\n",
       "6810    0.525906\n",
       "6811    0.000026\n",
       "Name: pct, dtype: float64"
      ]
     },
     "execution_count": 42,
     "metadata": {},
     "output_type": "execute_result"
    }
   ],
   "source": [
    "final[\"pct\"]"
   ]
  },
  {
   "cell_type": "code",
   "execution_count": 43,
   "metadata": {
    "collapsed": false
   },
   "outputs": [],
   "source": [
    "# convert them to numpy arrays\n",
    "ballA = playerDFtoList(ball)\n",
    "\n",
    "stephA = playerDFtoList(steph_df)\n",
    "klayA = playerDFtoList(klay_df)\n",
    "bogutA = playerDFtoList(bogut_df)\n",
    "greenA = playerDFtoList(green_df)\n",
    "barnesA = playerDFtoList(barnes_df)\n",
    "\n",
    "lebronA = playerDFtoList(lebron_df)\n",
    "smithA = playerDFtoList(smith_df)\n",
    "loveA = playerDFtoList(love_df)\n",
    "irvingA = playerDFtoList(irving_df)\n",
    "mozgovA = playerDFtoList(mozgov_df)\n",
    "\n",
    "#Get ball radiuses\n",
    "radii = ball['radius'].tolist()\n",
    "\n",
    "ex = {}\n",
    "ex[\"Ball\"] = ballA.tolist()\n",
    "\n",
    "ex[\"Curry\"] = stephA.tolist()\n",
    "ex[\"Thompson\"] = klayA.tolist()\n",
    "ex[\"Bogut\"] = bogutA.tolist()\n",
    "ex[\"Green\"] = greenA.tolist()\n",
    "ex[\"Barnes\"] = barnesA.tolist()\n",
    "\n",
    "\n",
    "ex[\"James\"] = lebronA.tolist()\n",
    "ex[\"Smith\"] = smithA.tolist()\n",
    "ex[\"Love\"] = loveA.tolist()\n",
    "ex[\"Irving\"] = irvingA.tolist()\n",
    "ex[\"Mozgov\"] = mozgovA.tolist()\n",
    "\n",
    "ex[\"radius\"] = radii\n",
    "\n",
    "ex[\"pos\"] = a_pos.tolist()\n",
    "\n",
    "ex[\"pct\"] = final[\"pct\"].tolist()\n",
    "\n",
    "# print ex['steph'][148:152]\n",
    "# print ex['steph'][299:301]"
   ]
  },
  {
   "cell_type": "code",
   "execution_count": 45,
   "metadata": {
    "collapsed": true
   },
   "outputs": [],
   "source": [
    "with open(\"./website/public/dump.json\", \"w\") as outfile:\n",
    "    json.dump(ex, outfile)"
   ]
  }
 ],
 "metadata": {
  "kernelspec": {
   "display_name": "Python 2",
   "language": "python",
   "name": "python2"
  },
  "language_info": {
   "codemirror_mode": {
    "name": "ipython",
    "version": 2
   },
   "file_extension": ".py",
   "mimetype": "text/x-python",
   "name": "python",
   "nbconvert_exporter": "python",
   "pygments_lexer": "ipython2",
   "version": "2.7.11"
  }
 },
 "nbformat": 4,
 "nbformat_minor": 0
}
