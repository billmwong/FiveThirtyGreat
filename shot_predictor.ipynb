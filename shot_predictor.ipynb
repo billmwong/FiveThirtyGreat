{
 "cells": [
  {
   "cell_type": "code",
   "execution_count": 1,
   "metadata": {
    "collapsed": false
   },
   "outputs": [
    {
     "name": "stderr",
     "output_type": "stream",
     "text": [
      "/Users/bumho/anaconda/lib/python2.7/site-packages/matplotlib/font_manager.py:273: UserWarning: Matplotlib is building the font cache using fc-list. This may take a moment.\n",
      "  warnings.warn('Matplotlib is building the font cache using fc-list. This may take a moment.')\n"
     ]
    }
   ],
   "source": [
    "import requests\n",
    "import pandas as pd\n",
    "import numpy as np\n",
    "import matplotlib.pyplot as plt\n",
    "import seaborn as sns\n",
    "\n",
    "from sklearn.cross_validation import train_test_split\n",
    "from sklearn.ensemble import RandomForestClassifier\n",
    "from sklearn.linear_model import LogisticRegression\n",
    "from sklearn.metrics import log_loss\n",
    "%matplotlib inline\n",
    "\n",
    "from nba_py import player\n",
    "import webscrape"
   ]
  },
  {
   "cell_type": "code",
   "execution_count": 2,
   "metadata": {
    "collapsed": false
   },
   "outputs": [
    {
     "name": "stdout",
     "output_type": "stream",
     "text": [
      "<Response [200]>\n",
      "[u'GRID_TYPE', u'GAME_ID', u'GAME_EVENT_ID', u'PLAYER_ID', u'PLAYER_NAME', u'TEAM_ID', u'TEAM_NAME', u'PERIOD', u'MINUTES_REMAINING', u'SECONDS_REMAINING', u'EVENT_TYPE', u'ACTION_TYPE', u'SHOT_TYPE', u'SHOT_ZONE_BASIC', u'SHOT_ZONE_AREA', u'SHOT_ZONE_RANGE', u'SHOT_DISTANCE', u'LOC_X', u'LOC_Y', u'SHOT_ATTEMPTED_FLAG', u'SHOT_MADE_FLAG']\n"
     ]
    }
   ],
   "source": [
    "shot_chart_url = 'http://stats.nba.com/stats/shotchartdetail?Period=0&VsConference=&LeagueID=00&LastNGames=0&TeamID=0&Position=&Location=&Outcome=&ContextMeasure=FGA&DateFrom=&StartPeriod=&DateTo=&OpponentTeamID=0&ContextFilter=&RangeType=&Season=2015-16&AheadBehind=&PlayerID=201939&EndRange=&VsDivision=&PointDiff=&RookieYear=&GameSegment=&Month=0&ClutchTime=&StartRange=&EndPeriod=&SeasonType=Regular+Season&SeasonSegment=&GameID='\n",
    "# Get the webpage containing the data\n",
    "response = requests.get(shot_chart_url)\n",
    "print response\n",
    "# Grab the headers to be used as column headers for our DataFrame\n",
    "headers = response.json()['resultSets'][0]['headers']\n",
    "print headers\n",
    "# Grab the shot chart data\n",
    "shots = response.json()['resultSets'][0]['rowSet']"
   ]
  },
  {
   "cell_type": "code",
   "execution_count": 3,
   "metadata": {
    "collapsed": true
   },
   "outputs": [],
   "source": [
    "shot_df = pd.DataFrame(shots, columns=headers)"
   ]
  },
  {
   "cell_type": "code",
   "execution_count": 4,
   "metadata": {
    "collapsed": true
   },
   "outputs": [],
   "source": [
    "def create_dataFrame(shot_chart_url):\n",
    "    response = requests.get(shot_chart_url)\n",
    "    # Grab the headers to be used as column headers for our DataFrame\n",
    "    headers = response.json()['resultSets'][0]['headers']\n",
    "    # Grab the shot chart data\n",
    "    shots = response.json()['resultSets'][0]['rowSet']\n",
    "    return pd.DataFrame(shots, columns=headers)\n",
    "    "
   ]
  },
  {
   "cell_type": "code",
   "execution_count": 5,
   "metadata": {
    "collapsed": false
   },
   "outputs": [
    {
     "data": {
      "text/plain": [
       "Index([u'GRID_TYPE', u'GAME_ID', u'GAME_EVENT_ID', u'PLAYER_ID',\n",
       "       u'PLAYER_NAME', u'TEAM_ID', u'TEAM_NAME', u'PERIOD',\n",
       "       u'MINUTES_REMAINING', u'SECONDS_REMAINING', u'EVENT_TYPE',\n",
       "       u'ACTION_TYPE', u'SHOT_TYPE', u'SHOT_ZONE_BASIC', u'SHOT_ZONE_AREA',\n",
       "       u'SHOT_ZONE_RANGE', u'SHOT_DISTANCE', u'LOC_X', u'LOC_Y',\n",
       "       u'SHOT_ATTEMPTED_FLAG', u'SHOT_MADE_FLAG'],\n",
       "      dtype='object')"
      ]
     },
     "execution_count": 5,
     "metadata": {},
     "output_type": "execute_result"
    }
   ],
   "source": [
    "shot_df = create_dataFrame(shot_chart_url)\n",
    "shot_df.columns"
   ]
  },
  {
   "cell_type": "code",
   "execution_count": 8,
   "metadata": {
    "collapsed": false
   },
   "outputs": [],
   "source": [
    "def transform_api(data):\n",
    "    action_type = pd.get_dummies(data.ACTION_TYPE)\n",
    "    period = pd.get_dummies(data.PERIOD)\n",
    "    shot_type = pd.get_dummies(data.SHOT_TYPE)\n",
    "    shot_zone_basic = pd.get_dummies(data.SHOT_ZONE_BASIC)\n",
    "    shot_zone_area = pd.get_dummies(data.SHOT_ZONE_AREA)\n",
    "    shot_zone_range = pd.get_dummies(data.SHOT_ZONE_RANGE)\n",
    "\n",
    "    new_shot_chart = pd.concat([action_type, period, shot_type, shot_zone_basic, shot_zone_area, shot_zone_range, data.SHOT_MADE_FLAG], axis=1)\n",
    "    return new_shot_chart\n",
    "\n",
    "new_shot_chart= transform_api(shot_df)"
   ]
  },
  {
   "cell_type": "code",
   "execution_count": 9,
   "metadata": {
    "collapsed": true
   },
   "outputs": [],
   "source": [
    "logistic = LogisticRegression()"
   ]
  },
  {
   "cell_type": "code",
   "execution_count": 10,
   "metadata": {
    "collapsed": false
   },
   "outputs": [],
   "source": [
    "def get_player_id(name):\n",
    "    name = name.split(' ')\n",
    "    return player.get_player(name[0], name[1], just_id=True)\n",
    "\n",
    "def build_url(name, season):\n",
    "    p_id = str(int(get_player_id(name)))\n",
    "    url = \"http://stats.nba.com/stats/shotchartdetail?Period=0&VsConference=&LeagueID=00&LastNGames=0&TeamID=0&Position=&Location=&Outcome=&ContextMeasure=FGA&DateFrom=&StartPeriod=&DateTo=&OpponentTeamID=0&ContextFilter=&RangeType=&Season=\"+season+\"&AheadBehind=&PlayerID=\"+ p_id+\"&EndRange=&VsDivision=&PointDiff=&RookieYear=&GameSegment=&Month=0&ClutchTime=&StartRange=&EndPeriod=&SeasonType=Regular+Season&SeasonSegment=&GameID=\"\n",
    "    return url"
   ]
  },
  {
   "cell_type": "code",
   "execution_count": 15,
   "metadata": {
    "collapsed": false
   },
   "outputs": [
    {
     "name": "stdout",
     "output_type": "stream",
     "text": [
      "http://stats.nba.com/stats/shotchartdetail?Period=0&VsConference=&LeagueID=00&LastNGames=0&TeamID=0&Position=&Location=&Outcome=&ContextMeasure=FGA&DateFrom=&StartPeriod=&DateTo=&OpponentTeamID=0&ContextFilter=&RangeType=&Season=2014-15&AheadBehind=&PlayerID=201939&EndRange=&VsDivision=&PointDiff=&RookieYear=&GameSegment=&Month=0&ClutchTime=&StartRange=&EndPeriod=&SeasonType=Regular+Season&SeasonSegment=&GameID=\n"
     ]
    }
   ],
   "source": [
    "athlete = \"stephen curry\"\n",
    "season = \"2014-15\"\n",
    "web_df = webscrape.getData(athlete, season[:-3])\n",
    "print build_url(athlete, season)\n",
    "# api_df = create_dataFrame(build_url(athlete, season))"
   ]
  },
  {
   "cell_type": "code",
   "execution_count": 16,
   "metadata": {
    "collapsed": false
   },
   "outputs": [],
   "source": [
    "defensive_rating = {\"Golden State Warriors\": 101.67, \"Los Angeles Clippers\": 106.14, \"San Antonio Spurs\": 102.30, \"Atlanta Hawks\": 104.56, \"Portland Trail Blazers\": 104.03, \"Cleveland Cavaliers\": 107.58, \"Houston Rockets\": 103.85, \"Memphis Grizzlies\": 102.41, \"Dallas Mavericks\": 106.87, \"Chicago Bulls\": 105.53, \"Toronto Raptors\": 109.35, \"Oklahoma City Thunder\": 105.89, \"New Orleans Pelicans\": 107.88, \"Utah Jazz\": 105.43, \"Washington Wizards\": 104.13, \"Indiana Pacers\": 104.48, \"Milwaukee Bucks\": 103.49, \"Phoenix Suns\": 106.34, \"Boston Celtics\": 105.58, \"Detroit Pistons\": 107.77, \"Denver Nuggets\": 108.22, \"Sacramento Kings\": 109.51, \"Brooklyn Nets\": 108.48, \"Miami Heat\": 108.36, \"Charlotte Hornets\": 104.55, \"Orlando Magic\": 108.54, \"Los Angeles Lakers\": 110.90, \"Minnesota Timberwolves\": 112.50, \"Philadelphia 76ers\": 105.67, \"New York Knicks\": 111.36}"
   ]
  },
  {
   "cell_type": "code",
   "execution_count": 17,
   "metadata": {
    "collapsed": false
   },
   "outputs": [],
   "source": [
    "def transform_web(data):\n",
    "    shot_type = pd.get_dummies(data[\"Shot Type\"])\n",
    "    q = pd.get_dummies(data[\"Q\"])\n",
    "    shot_dist = data[\"Shot Dist.\"].apply(lambda x : x.replace(\"ft.\", \"\"))\n",
    "    d_rating = data[\"Opp.\"].apply(lambda x: defensive_rating[x])\n",
    "    opp = pd.get_dummies(data[\"Opp.\"])\n",
    "#     defender = pd.get_dummies(data[\"Defender\"])\n",
    "    \n",
    "\n",
    "    new_shot_chart = pd.concat([ d_rating,shot_type, q , shot_dist, data[\"Shot Clock\"],data[\"Touch Time\"],\n",
    "                                data[\"Drib.\"],data[\"Def Dist.\"], (data[\"Made?\"]==\"Yes\").astype(int)], axis=1)\n",
    "    return new_shot_chart\n",
    "\n"
   ]
  },
  {
   "cell_type": "code",
   "execution_count": 18,
   "metadata": {
    "collapsed": false,
    "scrolled": true
   },
   "outputs": [
    {
     "name": "stdout",
     "output_type": "stream",
     "text": [
      "Index([u'Opp.', u'Driving Bank shot', u'Driving Finger Roll Layup Shot',\n",
      "       u'Driving Jump shot', u'Driving Layup Shot',\n",
      "       u'Driving Reverse Layup Shot', u'Driving Slam Dunk Shot', u'Dunk Shot',\n",
      "       u'Fadeaway Bank shot', u'Fadeaway Jump Shot', u'Finger Roll Layup Shot',\n",
      "       u'Floating Jump shot', u'Jump Bank Shot', u'Jump Shot', u'Layup Shot',\n",
      "       u'Pullup Bank shot', u'Pullup Jump shot', u'Putback Layup Shot',\n",
      "       u'Reverse Layup Shot', u'Running Bank shot',\n",
      "       u'Running Finger Roll Layup Shot', u'Running Hook Shot',\n",
      "       u'Running Jump Shot', u'Running Layup Shot',\n",
      "       u'Running Reverse Layup Shot', u'Slam Dunk Shot',\n",
      "       u'Step Back Jump shot', u'Turnaround Bank shot',\n",
      "       u'Turnaround Fadeaway shot', u'Turnaround Hook Shot',\n",
      "       u'Turnaround Jump Shot', u'1', u'2', u'3', u'4', u'5', u'Shot Dist.',\n",
      "       u'Shot Clock', u'Touch Time', u'Drib.', u'Def Dist.', u'Made?'],\n",
      "      dtype='object')\n",
      "0.633928571429\n"
     ]
    }
   ],
   "source": [
    "transformed = transform_web(web_df)\n",
    "print transformed.columns\n",
    "predictors = transformed.columns[:-1]\n",
    "X_train, X_test, y_train, y_test = train_test_split(transformed[predictors], transformed[\"Made?\"])\n",
    "logistic.fit(X_train, y_train)\n",
    "print  logistic.score(X_test, y_test)"
   ]
  },
  {
   "cell_type": "code",
   "execution_count": 19,
   "metadata": {
    "collapsed": false
   },
   "outputs": [],
   "source": [
    "def testLogLoss_api(df, model):\n",
    "    transformed = transform(df)\n",
    "    predictors = transformed.columns[:-1]\n",
    "    X_train, X_test, y_train, y_test = train_test_split(transformed, transformed.SHOT_MADE_FLAG, train_size=.5)\n",
    "    model.fit(X_train[predictors], y_train)\n",
    "    predicted = np.array(model.predict_proba(X_test[predictors]))\n",
    "    pct = .487\n",
    "    a = [[pct, 1-pct]]\n",
    "    compare = a*predicted.shape[0]\n",
    "    print \"comparing\", log_loss(y_test, compare)\n",
    "    print log_loss(y_test, predicted)\n",
    "\n",
    "\n",
    "def testLogLoss_web(df, model):\n",
    "    transformed = transform_web(df)\n",
    "    predictors = transformed.columns[:-1]\n",
    "    X_train, X_test, y_train, y_test = train_test_split(transformed, transformed[\"Made?\"], train_size=.5)\n",
    "    model.fit(X_train[predictors], y_train)\n",
    "    predicted = np.array(model.predict_proba(X_test[predictors]))\n",
    "    \n",
    "    model.fit(X_train[[\"Shot Dist.\"]], y_train)\n",
    "    print \"comparing\", log_loss(y_test, np.array(model.predict_proba(X_test[[\"Shot Dist.\"]])))\n",
    "    print log_loss(y_test, predicted)"
   ]
  },
  {
   "cell_type": "code",
   "execution_count": 20,
   "metadata": {
    "collapsed": false,
    "scrolled": false
   },
   "outputs": [
    {
     "ename": "NameError",
     "evalue": "name 'api_df' is not defined",
     "output_type": "error",
     "traceback": [
      "\u001b[0;31m---------------------------------------------------------------------------\u001b[0m",
      "\u001b[0;31mNameError\u001b[0m                                 Traceback (most recent call last)",
      "\u001b[0;32m<ipython-input-20-ed5e1e39789f>\u001b[0m in \u001b[0;36m<module>\u001b[0;34m()\u001b[0m\n\u001b[0;32m----> 1\u001b[0;31m \u001b[0mtestLogLoss_api\u001b[0m\u001b[0;34m(\u001b[0m\u001b[0mapi_df\u001b[0m\u001b[0;34m,\u001b[0m \u001b[0mlogistic\u001b[0m\u001b[0;34m)\u001b[0m\u001b[0;34m\u001b[0m\u001b[0m\n\u001b[0m",
      "\u001b[0;31mNameError\u001b[0m: name 'api_df' is not defined"
     ]
    }
   ],
   "source": [
    "testLogLoss_api(api_df, logistic)"
   ]
  },
  {
   "cell_type": "code",
   "execution_count": 21,
   "metadata": {
    "collapsed": false
   },
   "outputs": [
    {
     "name": "stdout",
     "output_type": "stream",
     "text": [
      "comparing 0.676336019789\n",
      "0.638560645288\n"
     ]
    }
   ],
   "source": [
    "testLogLoss_web(web_df, logistic)"
   ]
  },
  {
   "cell_type": "code",
   "execution_count": 28,
   "metadata": {
    "collapsed": true
   },
   "outputs": [],
   "source": [
    "def combineData(api, web):\n",
    "    web[\"TimeInt\"] = web[\"Time\"].apply(lambda x: int(x.replace(\":\", \"\")))    \n",
    "    web.sort_values([\"Game Date\", \"Q\", \"TimeInt\"],ascending=[True, True, False])\n",
    "    web.reset_index(drop=True, inplace =True)\n",
    "    return pd.concat([api, web[[\"Shot Dist.\",\"Opp.\", \"Drib.\", \"Shot Clock\", \"Touch Time\",\"Defender\", \"Def Dist.\"]]], axis=1)\n"
   ]
  },
  {
   "cell_type": "code",
   "execution_count": 312,
   "metadata": {
    "collapsed": false,
    "scrolled": false
   },
   "outputs": [],
   "source": [
    "combined = combineData(api_df, web_df)"
   ]
  },
  {
   "cell_type": "code",
   "execution_count": 34,
   "metadata": {
    "collapsed": true
   },
   "outputs": [],
   "source": [
    "def transform_combined(data):\n",
    "    \n",
    "    action_type = pd.get_dummies(data.ACTION_TYPE)\n",
    "    period = pd.get_dummies(data.PERIOD)\n",
    "    shot_type = pd.get_dummies(data.SHOT_TYPE)\n",
    "    shot_zone_basic = pd.get_dummies(data.SHOT_ZONE_BASIC)\n",
    "    shot_zone_area = pd.get_dummies(data.SHOT_ZONE_AREA)\n",
    "    shot_zone_range = pd.get_dummies(data.SHOT_ZONE_RANGE)\n",
    "\n",
    "    shot_dist = data[\"Shot Dist.\"].apply(lambda x : x.replace(\"ft.\", \"\"))\n",
    "    d_rating = data[\"Opp.\"].apply(lambda x: defensive_rating[x])\n",
    "#     defender = pd.get_dummies(data[\"Defender\"])\n",
    "    \n",
    "    new_shot_chart = pd.concat([d_rating, action_type, period, shot_type, shot_zone_basic, shot_zone_area, shot_zone_range, \n",
    "                                  data[\"Shot Clock\"],data[\"Touch Time\"],\n",
    "                                data[\"Drib.\"],data[\"Def Dist.\"],\n",
    "                                data.SHOT_MADE_FLAG], axis=1)\n",
    "    return new_shot_chart"
   ]
  },
  {
   "cell_type": "code",
   "execution_count": 313,
   "metadata": {
    "collapsed": false
   },
   "outputs": [],
   "source": [
    "transformed_combined = transform_combined(combined)"
   ]
  },
  {
   "cell_type": "code",
   "execution_count": 41,
   "metadata": {
    "collapsed": false
   },
   "outputs": [],
   "source": [
    "def testLogLoss_combined(transformed, model):\n",
    "    predictors = transformed.columns[:-1]\n",
    "    X_train, X_test, y_train, y_test = train_test_split(transformed, transformed.SHOT_MADE_FLAG, train_size=.5)\n",
    "    print predictors, len(predictors)\n",
    "    model.fit(X_train[predictors], y_train)\n",
    "    print \"score\",model.score(X_test[predictors], y_test)\n",
    "    predicted = np.array(model.predict_proba(X_test[predictors]))\n",
    "    print \"Log_loss\", log_loss(y_test, predicted)\n",
    "    return logistic"
   ]
  },
  {
   "cell_type": "code",
   "execution_count": 42,
   "metadata": {
    "collapsed": false
   },
   "outputs": [
    {
     "name": "stdout",
     "output_type": "stream",
     "text": [
      "Index([                          u'Opp.',              u'Driving Bank shot',\n",
      "       u'Driving Finger Roll Layup Shot',              u'Driving Jump shot',\n",
      "                   u'Driving Layup Shot',     u'Driving Reverse Layup Shot',\n",
      "               u'Driving Slam Dunk Shot',                      u'Dunk Shot',\n",
      "                   u'Fadeaway Bank shot',             u'Fadeaway Jump Shot',\n",
      "               u'Finger Roll Layup Shot',             u'Floating Jump shot',\n",
      "                       u'Jump Bank Shot',                      u'Jump Shot',\n",
      "                           u'Layup Shot',               u'Pullup Bank shot',\n",
      "                     u'Pullup Jump shot',             u'Putback Layup Shot',\n",
      "                   u'Reverse Layup Shot',              u'Running Bank shot',\n",
      "       u'Running Finger Roll Layup Shot',              u'Running Hook Shot',\n",
      "                    u'Running Jump Shot',             u'Running Layup Shot',\n",
      "           u'Running Reverse Layup Shot',                 u'Slam Dunk Shot',\n",
      "                  u'Step Back Jump shot',           u'Turnaround Bank shot',\n",
      "             u'Turnaround Fadeaway shot',           u'Turnaround Hook Shot',\n",
      "                 u'Turnaround Jump Shot',                                 1,\n",
      "                                       2,                                 3,\n",
      "                                       4,                                 5,\n",
      "                       u'2PT Field Goal',                 u'3PT Field Goal',\n",
      "                    u'Above the Break 3',                      u'Backcourt',\n",
      "                u'In The Paint (Non-RA)',                  u'Left Corner 3',\n",
      "                            u'Mid-Range',                u'Restricted Area',\n",
      "                       u'Right Corner 3',                 u'Back Court(BC)',\n",
      "                            u'Center(C)',           u'Left Side Center(LC)',\n",
      "                         u'Left Side(L)',          u'Right Side Center(RC)',\n",
      "                        u'Right Side(R)',                      u'16-24 ft.',\n",
      "                              u'24+ ft.',                       u'8-16 ft.',\n",
      "                      u'Back Court Shot',                u'Less Than 8 ft.',\n",
      "                           u'Shot Clock',                     u'Touch Time',\n",
      "                                u'Drib.',                      u'Def Dist.'],\n",
      "      dtype='object') 60\n",
      "score 0.618479880775\n",
      "Log_loss 0.658303905545\n"
     ]
    },
    {
     "data": {
      "text/plain": [
       "array([[  9.32146673e-04,   5.56485409e-01,   4.27379498e-01,\n",
       "         -8.34571746e-01,   7.57101363e-01,   9.81679525e-01,\n",
       "          2.96492323e-01,   0.00000000e+00,   4.33965475e-01,\n",
       "          1.36353894e-02,   0.00000000e+00,  -2.81227256e-01,\n",
       "         -3.92402889e-01,  -1.20466450e+00,  -6.07556906e-01,\n",
       "          8.07260140e-02,  -1.83278689e-01,   4.99035520e-01,\n",
       "          5.41224489e-01,   1.40228442e+00,  -5.33425596e-01,\n",
       "          0.00000000e+00,  -9.33763302e-01,   3.07703649e-02,\n",
       "          3.22826605e-01,   0.00000000e+00,  -3.25829412e-01,\n",
       "          5.47468717e-02,  -4.26928316e-02,  -3.84468288e-01,\n",
       "         -7.61030994e-01,  -8.89858537e-02,   7.51381627e-02,\n",
       "          3.10244726e-03,   2.36994517e-02,  -9.95133521e-02,\n",
       "          1.35147839e-02,  -1.00073928e-01,  -2.28238375e-01,\n",
       "         -5.72702058e-01,   1.83600531e-01,  -3.13952180e-02,\n",
       "         -4.92820749e-01,   3.22735002e-01,   7.32261723e-01,\n",
       "         -5.72702058e-01,  -4.92929749e-02,   1.32185580e-01,\n",
       "          5.12012025e-01,   4.64200528e-02,  -1.55181769e-01,\n",
       "          2.35787141e-01,   4.72628130e-01,  -7.14072437e-02,\n",
       "         -5.72702058e-01,  -1.50865113e-01,   2.67339937e-02,\n",
       "          5.65965799e-02,  -1.87005825e-02,  -2.98084159e-02]])"
      ]
     },
     "execution_count": 42,
     "metadata": {},
     "output_type": "execute_result"
    }
   ],
   "source": [
    "random = RandomForestClassifier(random_state=1, n_estimators=10, min_samples_split=4, min_samples_leaf=8)\n",
    "# testLogLoss_combined(transformed_combined, random)\n",
    "m = testLogLoss_combined(transformed_combined, logistic)\n",
    "m.coef_"
   ]
  },
  {
   "cell_type": "code",
   "execution_count": 30,
   "metadata": {
    "collapsed": false
   },
   "outputs": [
    {
     "data": {
      "text/plain": [
       "<matplotlib.axes._subplots.AxesSubplot at 0x118396ed0>"
      ]
     },
     "execution_count": 30,
     "metadata": {},
     "output_type": "execute_result"
    },
    {
     "data": {
      "image/png": "[encoded data removed]",
      "text/plain": [
       "<matplotlib.figure.Figure at 0x116b1be50>"
      ]
     },
     "metadata": {},
     "output_type": "display_data"
    }
   ],
   "source": [
    "sns.distplot(transformed[\"Shot Dist.\"].apply(lambda x: float(x)))\n"
   ]
  },
  {
   "cell_type": "code",
   "execution_count": 31,
   "metadata": {
    "collapsed": false
   },
   "outputs": [
    {
     "name": "stdout",
     "output_type": "stream",
     "text": [
      "0.447204968944 161\n",
      "0.528037383178 214\n",
      "0.479245283019 265\n",
      "0.479518072289 415\n",
      "0.510752688172 186\n",
      "0.509803921569 51\n",
      "0.428571428571 49\n"
     ]
    }
   ],
   "source": [
    "transformed_combined[\"Def Dist.\"] = transformed_combined[\"Def Dist.\"].apply(lambda x: float(x))\n",
    "a = transformed_combined[transformed_combined[\"Def Dist.\"] < 2]\n",
    "print float((a[\"SHOT_MADE_FLAG\"].sum()))/(a.shape[0]), a.shape[0]\n",
    "\n",
    "a = transformed_combined[(transformed_combined[\"Def Dist.\"] >= 2) & (transformed_combined[\"Def Dist.\"]< 3)]\n",
    "print float((a[\"SHOT_MADE_FLAG\"].sum()))/(a.shape[0]),a.shape[0]\n",
    "\n",
    "a = transformed_combined[(transformed_combined[\"Def Dist.\"] >= 3) & (transformed_combined[\"Def Dist.\"]< 4)]\n",
    "print float((a[\"SHOT_MADE_FLAG\"].sum()))/(a.shape[0]),a.shape[0]\n",
    "\n",
    "a = transformed_combined[(transformed_combined[\"Def Dist.\"] >= 4) & (transformed_combined[\"Def Dist.\"]< 6)]\n",
    "print float((a[\"SHOT_MADE_FLAG\"].sum()))/(a.shape[0]),a.shape[0]\n",
    "\n",
    "\n",
    "a = transformed_combined[(transformed_combined[\"Def Dist.\"] >= 6) & (transformed_combined[\"Def Dist.\"]< 8)]\n",
    "print float((a[\"SHOT_MADE_FLAG\"].sum()))/(a.shape[0]),a.shape[0]\n",
    "\n",
    "a = transformed_combined[(transformed_combined[\"Def Dist.\"] >= 8) & (transformed_combined[\"Def Dist.\"]< 10)]\n",
    "print float((a[\"SHOT_MADE_FLAG\"].sum()))/(a.shape[0]),a.shape[0]\n",
    "\n",
    "a = transformed_combined[(transformed_combined[\"Def Dist.\"]>=10)]\n",
    "print float((a[\"SHOT_MADE_FLAG\"].sum()))/(a.shape[0]),a.shape[0]\n"
   ]
  },
  {
   "cell_type": "code",
   "execution_count": 43,
   "metadata": {
    "collapsed": false
   },
   "outputs": [
    {
     "data": {
      "text/plain": [
       "Jump Shot                         561\n",
       "Pullup Jump shot                  260\n",
       "Step Back Jump shot               102\n",
       "Driving Layup Shot                 96\n",
       "Layup Shot                         65\n",
       "Floating Jump shot                 45\n",
       "Driving Finger Roll Layup Shot     38\n",
       "Driving Reverse Layup Shot         30\n",
       "Running Jump Shot                  23\n",
       "Running Bank shot                  21\n",
       "Reverse Layup Shot                 18\n",
       "Driving Jump shot                  12\n",
       "Jump Bank Shot                     11\n",
       "Running Layup Shot                  8\n",
       "Turnaround Jump Shot                8\n",
       "Fadeaway Jump Shot                  7\n",
       "Turnaround Bank shot                6\n",
       "Driving Bank shot                   5\n",
       "Turnaround Fadeaway shot            4\n",
       "Pullup Bank shot                    4\n",
       "Finger Roll Layup Shot              4\n",
       "Running Finger Roll Layup Shot      3\n",
       "Putback Layup Shot                  2\n",
       "Driving Slam Dunk Shot              2\n",
       "Turnaround Hook Shot                1\n",
       "Running Hook Shot                   1\n",
       "Fadeaway Bank shot                  1\n",
       "Slam Dunk Shot                      1\n",
       "Running Reverse Layup Shot          1\n",
       "Dunk Shot                           1\n",
       "Name: ACTION_TYPE, dtype: int64"
      ]
     },
     "execution_count": 43,
     "metadata": {},
     "output_type": "execute_result"
    }
   ],
   "source": [
    "api_df[\"ACTION_TYPE\"].value_counts()"
   ]
  }
 ],
 "metadata": {
  "kernelspec": {
   "display_name": "Python 2",
   "language": "python",
   "name": "python2"
  },
  "language_info": {
   "codemirror_mode": {
    "name": "ipython",
    "version": 2
   },
   "file_extension": ".py",
   "mimetype": "text/x-python",
   "name": "python",
   "nbconvert_exporter": "python",
   "pygments_lexer": "ipython2",
   "version": "2.7.11"
  }
 },
 "nbformat": 4,
 "nbformat_minor": 0
}
