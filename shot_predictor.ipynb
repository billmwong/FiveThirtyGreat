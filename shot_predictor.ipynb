{
 "cells": [
  {
   "cell_type": "code",
   "execution_count": 6,
   "metadata": {
    "collapsed": false
   },
   "outputs": [],
   "source": [
    "import requests\n",
    "import pandas as pd\n",
    "import numpy as np\n",
    "import matplotlib.pyplot as plt\n",
    "import seaborn as sns\n",
    "from sklearn import cross_validation\n",
    "from sklearn.cross_validation import train_test_split\n",
    "from sklearn.ensemble import RandomForestClassifier, GradientBoostingClassifier\n",
    "from sklearn.linear_model import LinearRegression, LogisticRegression, LogisticRegressionCV"
   ]
  },
  {
   "cell_type": "code",
   "execution_count": 7,
   "metadata": {
    "collapsed": false
   },
   "outputs": [
    {
     "name": "stdout",
     "output_type": "stream",
     "text": [
      "<Response [200]>\n",
      "[u'GRID_TYPE', u'GAME_ID', u'GAME_EVENT_ID', u'PLAYER_ID', u'PLAYER_NAME', u'TEAM_ID', u'TEAM_NAME', u'PERIOD', u'MINUTES_REMAINING', u'SECONDS_REMAINING', u'EVENT_TYPE', u'ACTION_TYPE', u'SHOT_TYPE', u'SHOT_ZONE_BASIC', u'SHOT_ZONE_AREA', u'SHOT_ZONE_RANGE', u'SHOT_DISTANCE', u'LOC_X', u'LOC_Y', u'SHOT_ATTEMPTED_FLAG', u'SHOT_MADE_FLAG']\n"
     ]
    }
   ],
   "source": [
    "shot_chart_url = 'http://stats.nba.com/stats/shotchartdetail?Period=0&VsConference=&LeagueID=00&LastNGames=0&TeamID=0&Position=&Location=&Outcome=&ContextMeasure=FGA&DateFrom=&StartPeriod=&DateTo=&OpponentTeamID=0&ContextFilter=&RangeType=&Season=2015-16&AheadBehind=&PlayerID=201939&EndRange=&VsDivision=&PointDiff=&RookieYear=&GameSegment=&Month=0&ClutchTime=&StartRange=&EndPeriod=&SeasonType=Regular+Season&SeasonSegment=&GameID='\n",
    "# Get the webpage containing the data\n",
    "response = requests.get(shot_chart_url)\n",
    "print response\n",
    "# Grab the headers to be used as column headers for our DataFrame\n",
    "headers = response.json()['resultSets'][0]['headers']\n",
    "print headers\n",
    "# Grab the shot chart data\n",
    "shots = response.json()['resultSets'][0]['rowSet']"
   ]
  },
  {
   "cell_type": "code",
   "execution_count": 8,
   "metadata": {
    "collapsed": true
   },
   "outputs": [],
   "source": [
    "shot_df = pd.DataFrame(shots, columns=headers)"
   ]
  },
  {
   "cell_type": "code",
   "execution_count": 35,
   "metadata": {
    "collapsed": false
   },
   "outputs": [],
   "source": [
    "def create_dataFrame(shot_chart_url):\n",
    "    response = requests.get(shot_chart_url)\n",
    "    # Grab the headers to be used as column headers for our DataFrame\n",
    "    headers = response.json()['resultSets'][0]['headers']\n",
    "    # Grab the shot chart data\n",
    "    shots = response.json()['resultSets'][0]['rowSet']\n",
    "    return pd.DataFrame(shots, columns=headers)\n",
    "    "
   ]
  },
  {
   "cell_type": "code",
   "execution_count": 37,
   "metadata": {
    "collapsed": false
   },
   "outputs": [
    {
     "data": {
      "text/plain": [
       "Index([u'GRID_TYPE', u'GAME_ID', u'GAME_EVENT_ID', u'PLAYER_ID',\n",
       "       u'PLAYER_NAME', u'TEAM_ID', u'TEAM_NAME', u'PERIOD',\n",
       "       u'MINUTES_REMAINING', u'SECONDS_REMAINING', u'EVENT_TYPE',\n",
       "       u'ACTION_TYPE', u'SHOT_TYPE', u'SHOT_ZONE_BASIC', u'SHOT_ZONE_AREA',\n",
       "       u'SHOT_ZONE_RANGE', u'SHOT_DISTANCE', u'LOC_X', u'LOC_Y',\n",
       "       u'SHOT_ATTEMPTED_FLAG', u'SHOT_MADE_FLAG'],\n",
       "      dtype='object')"
      ]
     },
     "execution_count": 37,
     "metadata": {},
     "output_type": "execute_result"
    }
   ],
   "source": [
    "shot_df = create_dataFrame(shot_chart_url)\n",
    "shot_df.columns"
   ]
  },
  {
   "cell_type": "code",
   "execution_count": 25,
   "metadata": {
    "collapsed": false
   },
   "outputs": [],
   "source": [
    "def transform(data):\n",
    "    action_type = pd.get_dummies(data.ACTION_TYPE)\n",
    "    period = pd.get_dummies(data.PERIOD)\n",
    "    shot_type = pd.get_dummies(data.SHOT_TYPE)\n",
    "    shot_zone_basic = pd.get_dummies(data.SHOT_ZONE_BASIC)\n",
    "    shot_zone_area = pd.get_dummies(data.SHOT_ZONE_AREA)\n",
    "    shot_zone_range = pd.get_dummies(data.SHOT_ZONE_RANGE)\n",
    "\n",
    "    new_shot_chart = pd.concat([action_type, period, shot_type, shot_zone_basic, shot_zone_area, shot_zone_range, data.SHOT_MADE_FLAG], axis=1)\n",
    "    return new_shot_chart"
   ]
  },
  {
   "cell_type": "code",
   "execution_count": 28,
   "metadata": {
    "collapsed": false
   },
   "outputs": [],
   "source": [
    "new_shot_chart= transform(shot_df)"
   ]
  },
  {
   "cell_type": "code",
   "execution_count": 29,
   "metadata": {
    "collapsed": true
   },
   "outputs": [],
   "source": [
    "logistic = LogisticRegression()\n",
    "def train_test_splitter(model, X, y, train_size=0.5):\n",
    "    X_train, X_test, y_train, y_test = train_test_split(X, y, train_size=train_size)\n",
    "    model.fit(X_train, y_train)\n",
    "    return X_train, X_test, y_train, y_test, model"
   ]
  },
  {
   "cell_type": "code",
   "execution_count": 30,
   "metadata": {
    "collapsed": false
   },
   "outputs": [],
   "source": [
    "predictors = predictors = [   'Alley Oop Layup shot',\n",
    "           'Cutting Finger Roll Layup Shot',\n",
    "                       'Cutting Layup Shot',\n",
    "                        'Driving Bank shot',\n",
    "                        'Driving Dunk Shot',\n",
    "           'Driving Finger Roll Layup Shot',\n",
    "          'Driving Floating Bank Jump Shot',\n",
    "               'Driving Floating Jump Shot',\n",
    "                        'Driving Hook Shot',\n",
    "                       'Driving Layup Shot',\n",
    "               'Driving Reverse Layup Shot',\n",
    "                       'Fadeaway Bank shot',\n",
    "                       'Fadeaway Jump Shot',\n",
    "                   'Finger Roll Layup Shot',\n",
    "                       'Floating Jump shot',\n",
    "                                'Hook Shot',\n",
    "                           'Jump Bank Shot',\n",
    "                                'Jump Shot',\n",
    "                               'Layup Shot',\n",
    "                         'Pullup Bank shot',\n",
    "                         'Pullup Jump shot',\n",
    "                       'Putback Layup Shot',\n",
    "                       'Reverse Layup Shot',\n",
    "                        'Running Dunk Shot',\n",
    "           'Running Finger Roll Layup Shot',\n",
    "                        'Running Jump Shot',\n",
    "                       'Running Layup Shot',\n",
    "                'Running Pull-Up Jump Shot',\n",
    "               'Running Reverse Layup Shot',\n",
    "                      'Step Back Jump shot',\n",
    "                           'Tip Layup Shot',\n",
    "                     'Turnaround Bank shot',\n",
    "       'Turnaround Fadeaway Bank Jump Shot',\n",
    "                 'Turnaround Fadeaway shot',\n",
    "                     'Turnaround Jump Shot',\n",
    "                                           1,\n",
    "                                           2,\n",
    "                                           3,\n",
    "                                           4,\n",
    "                                           5,\n",
    "                           '2PT Field Goal',\n",
    "                           '3PT Field Goal',\n",
    "                        'Above the Break 3',\n",
    "                                'Backcourt',\n",
    "                    'In The Paint (Non-RA)',\n",
    "                            'Left Corner 3',\n",
    "                                'Mid-Range',\n",
    "                          'Restricted Area',\n",
    "                           'Right Corner 3',\n",
    "                           'Back Court(BC)',\n",
    "                                'Center(C)',\n",
    "                     'Left Side Center(LC)',\n",
    "                             'Left Side(L)',\n",
    "                    'Right Side Center(RC)',\n",
    "                            'Right Side(R)',\n",
    "                                '16-24 ft.',\n",
    "                                  '24+ ft.',\n",
    "                                 '8-16 ft.',\n",
    "                          'Back Court Shot',\n",
    "                          'Less Than 8 ft.']"
   ]
  },
  {
   "cell_type": "code",
   "execution_count": 82,
   "metadata": {
    "collapsed": false
   },
   "outputs": [
    {
     "ename": "KeyError",
     "evalue": "\"[u'Driving Jump shot' u'Driving Slam Dunk Shot' u'Dunk Shot'\\n u'Running Bank shot' u'Running Hook Shot' u'Slam Dunk Shot'\\n u'Turnaround Hook Shot'] not in index\"",
     "output_type": "error",
     "traceback": [
      "\u001b[0;31m---------------------------------------------------------------------------\u001b[0m",
      "\u001b[0;31mKeyError\u001b[0m                                  Traceback (most recent call last)",
      "\u001b[0;32m<ipython-input-82-f104074773f1>\u001b[0m in \u001b[0;36m<module>\u001b[0;34m()\u001b[0m\n\u001b[0;32m----> 1\u001b[0;31m \u001b[0mX_train\u001b[0m\u001b[0;34m,\u001b[0m \u001b[0mX_test\u001b[0m\u001b[0;34m,\u001b[0m \u001b[0my_train\u001b[0m\u001b[0;34m,\u001b[0m \u001b[0my_test\u001b[0m\u001b[0;34m,\u001b[0m \u001b[0mmodel\u001b[0m \u001b[0;34m=\u001b[0m \u001b[0mtrain_test_splitter\u001b[0m\u001b[0;34m(\u001b[0m\u001b[0mlogistic\u001b[0m\u001b[0;34m,\u001b[0m \u001b[0mnew_shot_chart\u001b[0m\u001b[0;34m[\u001b[0m\u001b[0mpredictors\u001b[0m\u001b[0;34m]\u001b[0m\u001b[0;34m,\u001b[0m \u001b[0mnew_shot_chart\u001b[0m\u001b[0;34m.\u001b[0m\u001b[0mSHOT_MADE_FLAG\u001b[0m\u001b[0;34m)\u001b[0m\u001b[0;34m\u001b[0m\u001b[0m\n\u001b[0m\u001b[1;32m      2\u001b[0m \u001b[0;34m\u001b[0m\u001b[0m\n\u001b[1;32m      3\u001b[0m \u001b[0mmodel\u001b[0m\u001b[0;34m.\u001b[0m\u001b[0mscore\u001b[0m\u001b[0;34m(\u001b[0m\u001b[0mX_test\u001b[0m\u001b[0;34m,\u001b[0m \u001b[0my_test\u001b[0m\u001b[0;34m)\u001b[0m\u001b[0;34m\u001b[0m\u001b[0m\n",
      "\u001b[0;32m/Users/bumho/anaconda/lib/python2.7/site-packages/pandas/core/frame.pyc\u001b[0m in \u001b[0;36m__getitem__\u001b[0;34m(self, key)\u001b[0m\n\u001b[1;32m   1961\u001b[0m         \u001b[0;32mif\u001b[0m \u001b[0misinstance\u001b[0m\u001b[0;34m(\u001b[0m\u001b[0mkey\u001b[0m\u001b[0;34m,\u001b[0m \u001b[0;34m(\u001b[0m\u001b[0mSeries\u001b[0m\u001b[0;34m,\u001b[0m \u001b[0mnp\u001b[0m\u001b[0;34m.\u001b[0m\u001b[0mndarray\u001b[0m\u001b[0;34m,\u001b[0m \u001b[0mIndex\u001b[0m\u001b[0;34m,\u001b[0m \u001b[0mlist\u001b[0m\u001b[0;34m)\u001b[0m\u001b[0;34m)\u001b[0m\u001b[0;34m:\u001b[0m\u001b[0;34m\u001b[0m\u001b[0m\n\u001b[1;32m   1962\u001b[0m             \u001b[0;31m# either boolean or fancy integer index\u001b[0m\u001b[0;34m\u001b[0m\u001b[0;34m\u001b[0m\u001b[0m\n\u001b[0;32m-> 1963\u001b[0;31m             \u001b[0;32mreturn\u001b[0m \u001b[0mself\u001b[0m\u001b[0;34m.\u001b[0m\u001b[0m_getitem_array\u001b[0m\u001b[0;34m(\u001b[0m\u001b[0mkey\u001b[0m\u001b[0;34m)\u001b[0m\u001b[0;34m\u001b[0m\u001b[0m\n\u001b[0m\u001b[1;32m   1964\u001b[0m         \u001b[0;32melif\u001b[0m \u001b[0misinstance\u001b[0m\u001b[0;34m(\u001b[0m\u001b[0mkey\u001b[0m\u001b[0;34m,\u001b[0m \u001b[0mDataFrame\u001b[0m\u001b[0;34m)\u001b[0m\u001b[0;34m:\u001b[0m\u001b[0;34m\u001b[0m\u001b[0m\n\u001b[1;32m   1965\u001b[0m             \u001b[0;32mreturn\u001b[0m \u001b[0mself\u001b[0m\u001b[0;34m.\u001b[0m\u001b[0m_getitem_frame\u001b[0m\u001b[0;34m(\u001b[0m\u001b[0mkey\u001b[0m\u001b[0;34m)\u001b[0m\u001b[0;34m\u001b[0m\u001b[0m\n",
      "\u001b[0;32m/Users/bumho/anaconda/lib/python2.7/site-packages/pandas/core/frame.pyc\u001b[0m in \u001b[0;36m_getitem_array\u001b[0;34m(self, key)\u001b[0m\n\u001b[1;32m   2005\u001b[0m             \u001b[0;32mreturn\u001b[0m \u001b[0mself\u001b[0m\u001b[0;34m.\u001b[0m\u001b[0mtake\u001b[0m\u001b[0;34m(\u001b[0m\u001b[0mindexer\u001b[0m\u001b[0;34m,\u001b[0m \u001b[0maxis\u001b[0m\u001b[0;34m=\u001b[0m\u001b[0;36m0\u001b[0m\u001b[0;34m,\u001b[0m \u001b[0mconvert\u001b[0m\u001b[0;34m=\u001b[0m\u001b[0mFalse\u001b[0m\u001b[0;34m)\u001b[0m\u001b[0;34m\u001b[0m\u001b[0m\n\u001b[1;32m   2006\u001b[0m         \u001b[0;32melse\u001b[0m\u001b[0;34m:\u001b[0m\u001b[0;34m\u001b[0m\u001b[0m\n\u001b[0;32m-> 2007\u001b[0;31m             \u001b[0mindexer\u001b[0m \u001b[0;34m=\u001b[0m \u001b[0mself\u001b[0m\u001b[0;34m.\u001b[0m\u001b[0mix\u001b[0m\u001b[0;34m.\u001b[0m\u001b[0m_convert_to_indexer\u001b[0m\u001b[0;34m(\u001b[0m\u001b[0mkey\u001b[0m\u001b[0;34m,\u001b[0m \u001b[0maxis\u001b[0m\u001b[0;34m=\u001b[0m\u001b[0;36m1\u001b[0m\u001b[0;34m)\u001b[0m\u001b[0;34m\u001b[0m\u001b[0m\n\u001b[0m\u001b[1;32m   2008\u001b[0m             \u001b[0;32mreturn\u001b[0m \u001b[0mself\u001b[0m\u001b[0;34m.\u001b[0m\u001b[0mtake\u001b[0m\u001b[0;34m(\u001b[0m\u001b[0mindexer\u001b[0m\u001b[0;34m,\u001b[0m \u001b[0maxis\u001b[0m\u001b[0;34m=\u001b[0m\u001b[0;36m1\u001b[0m\u001b[0;34m,\u001b[0m \u001b[0mconvert\u001b[0m\u001b[0;34m=\u001b[0m\u001b[0mTrue\u001b[0m\u001b[0;34m)\u001b[0m\u001b[0;34m\u001b[0m\u001b[0m\n\u001b[1;32m   2009\u001b[0m \u001b[0;34m\u001b[0m\u001b[0m\n",
      "\u001b[0;32m/Users/bumho/anaconda/lib/python2.7/site-packages/pandas/core/indexing.pyc\u001b[0m in \u001b[0;36m_convert_to_indexer\u001b[0;34m(self, obj, axis, is_setter)\u001b[0m\n\u001b[1;32m   1148\u001b[0m                 \u001b[0mmask\u001b[0m \u001b[0;34m=\u001b[0m \u001b[0mcheck\u001b[0m \u001b[0;34m==\u001b[0m \u001b[0;34m-\u001b[0m\u001b[0;36m1\u001b[0m\u001b[0;34m\u001b[0m\u001b[0m\n\u001b[1;32m   1149\u001b[0m                 \u001b[0;32mif\u001b[0m \u001b[0mmask\u001b[0m\u001b[0;34m.\u001b[0m\u001b[0many\u001b[0m\u001b[0;34m(\u001b[0m\u001b[0;34m)\u001b[0m\u001b[0;34m:\u001b[0m\u001b[0;34m\u001b[0m\u001b[0m\n\u001b[0;32m-> 1150\u001b[0;31m                     \u001b[0;32mraise\u001b[0m \u001b[0mKeyError\u001b[0m\u001b[0;34m(\u001b[0m\u001b[0;34m'%s not in index'\u001b[0m \u001b[0;34m%\u001b[0m \u001b[0mobjarr\u001b[0m\u001b[0;34m[\u001b[0m\u001b[0mmask\u001b[0m\u001b[0;34m]\u001b[0m\u001b[0;34m)\u001b[0m\u001b[0;34m\u001b[0m\u001b[0m\n\u001b[0m\u001b[1;32m   1151\u001b[0m \u001b[0;34m\u001b[0m\u001b[0m\n\u001b[1;32m   1152\u001b[0m                 \u001b[0;32mreturn\u001b[0m \u001b[0m_values_from_object\u001b[0m\u001b[0;34m(\u001b[0m\u001b[0mindexer\u001b[0m\u001b[0;34m)\u001b[0m\u001b[0;34m\u001b[0m\u001b[0m\n",
      "\u001b[0;31mKeyError\u001b[0m: \"[u'Driving Jump shot' u'Driving Slam Dunk Shot' u'Dunk Shot'\\n u'Running Bank shot' u'Running Hook Shot' u'Slam Dunk Shot'\\n u'Turnaround Hook Shot'] not in index\""
     ]
    }
   ],
   "source": [
    "X_train, X_test, y_train, y_test, model = train_test_splitter(logistic, new_shot_chart[predictors], new_shot_chart.SHOT_MADE_FLAG)\n",
    "\n",
    "model.score(X_test, y_test)"
   ]
  },
  {
   "cell_type": "code",
   "execution_count": 45,
   "metadata": {
    "collapsed": false
   },
   "outputs": [
    {
     "data": {
      "text/plain": [
       "0.64232488822652756"
      ]
     },
     "execution_count": 45,
     "metadata": {},
     "output_type": "execute_result"
    }
   ],
   "source": [
    "shot_chart_url = 'http://stats.nba.com/stats/shotchartdetail?Period=0&VsConference=&LeagueID=00&LastNGames=0&TeamID=0&Position=&Location=&Outcome=&ContextMeasure=FGA&DateFrom=&StartPeriod=&DateTo=&OpponentTeamID=0&ContextFilter=&RangeType=&Season=2014-15&AheadBehind=&PlayerID=201939&EndRange=&VsDivision=&PointDiff=&RookieYear=&GameSegment=&Month=0&ClutchTime=&StartRange=&EndPeriod=&SeasonType=Regular+Season&SeasonSegment=&GameID='\n",
    "shot_df_2014 = create_dataFrame(shot_chart_url)\n",
    "shot_df_2014\n",
    "new_shot_chart_2014= transform(shot_df_2014)\n",
    "new_shot_chart_2014.columns\n",
    "predictors = [             'Driving Bank shot', 'Driving Finger Roll Layup Shot',\n",
    "                    'Driving Jump shot',             'Driving Layup Shot',\n",
    "           'Driving Reverse Layup Shot',         'Driving Slam Dunk Shot',\n",
    "                            'Dunk Shot',             'Fadeaway Bank shot',\n",
    "                   'Fadeaway Jump Shot',         'Finger Roll Layup Shot',\n",
    "                   'Floating Jump shot',                 'Jump Bank Shot',\n",
    "                            'Jump Shot',                     'Layup Shot',\n",
    "                     'Pullup Bank shot',               'Pullup Jump shot',\n",
    "                   'Putback Layup Shot',             'Reverse Layup Shot',\n",
    "                    'Running Bank shot', 'Running Finger Roll Layup Shot',\n",
    "                    'Running Hook Shot',              'Running Jump Shot',\n",
    "                   'Running Layup Shot',     'Running Reverse Layup Shot',\n",
    "                       'Slam Dunk Shot',            'Step Back Jump shot',\n",
    "                 'Turnaround Bank shot',       'Turnaround Fadeaway shot',\n",
    "                 'Turnaround Hook Shot',           'Turnaround Jump Shot',\n",
    "                                       1,                                 2,\n",
    "                                       3,                                 4,\n",
    "                                       5,                 '2PT Field Goal',\n",
    "                       '3PT Field Goal',              'Above the Break 3',\n",
    "                            'Backcourt',          'In The Paint (Non-RA)',\n",
    "                        'Left Corner 3',                      'Mid-Range',\n",
    "                      'Restricted Area',                 'Right Corner 3',\n",
    "                       'Back Court(BC)',                      'Center(C)',\n",
    "                 'Left Side Center(LC)',                   'Left Side(L)',\n",
    "                'Right Side Center(RC)',                  'Right Side(R)',\n",
    "                            '16-24 ft.',                        '24+ ft.',\n",
    "                             '8-16 ft.',                'Back Court Shot',\n",
    "                      'Less Than 8 ft.']\n",
    "X_train, X_test, y_train, y_test, model = train_test_splitter(logistic, new_shot_chart_2014[predictors], new_shot_chart_2014.SHOT_MADE_FLAG)\n",
    "\n",
    "model.score(X_test, y_test)"
   ]
  },
  {
   "cell_type": "code",
   "execution_count": 55,
   "metadata": {
    "collapsed": false,
    "scrolled": false
   },
   "outputs": [],
   "source": [
    "combined = pd.concat([shot_df, shot_df_2014])\n",
    "new_shot_chart_combined= transform(combined)\n",
    "predictors = new_shot_chart_combined.columns[:-1]"
   ]
  },
  {
   "cell_type": "code",
   "execution_count": 79,
   "metadata": {
    "collapsed": false
   },
   "outputs": [
    {
     "data": {
      "text/plain": [
       "0.6604850213980028"
      ]
     },
     "execution_count": 79,
     "metadata": {},
     "output_type": "execute_result"
    }
   ],
   "source": [
    "X_train, X_test, y_train, y_test, model = train_test_splitter(logistic, new_shot_chart_combined[predictors], new_shot_chart_combined.SHOT_MADE_FLAG)\n",
    "\n",
    "model.score(X_test, y_test)"
   ]
  }
 ],
 "metadata": {
  "kernelspec": {
   "display_name": "Python 2",
   "language": "python",
   "name": "python2"
  },
  "language_info": {
   "codemirror_mode": {
    "name": "ipython",
    "version": 2
   },
   "file_extension": ".py",
   "mimetype": "text/x-python",
   "name": "python",
   "nbconvert_exporter": "python",
   "pygments_lexer": "ipython2",
   "version": "2.7.11"
  }
 },
 "nbformat": 4,
 "nbformat_minor": 0
}
